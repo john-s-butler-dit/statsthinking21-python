{
 "cells": [
  {
   "cell_type": "markdown",
   "metadata": {},
   "source": [
    "# Sampling\n",
    "In this chapter we will learn how to use Python to understand sampling and sampling error.\n",
    "\n",
    "## Sampling error\n",
    "Here we will repeatedly sample from the NHANES Height variable in order to obtain the sampling distribution of the mean. First let's load the data and clean them up."
   ]
  },
  {
   "cell_type": "code",
   "execution_count": 4,
   "metadata": {
    "lines_to_next_cell": 2
   },
   "outputs": [],
   "source": [
    "\n",
    "from nhanes.load import load_NHANES_data\n",
    "nhanes_data = load_NHANES_data()\n",
    "adult_nhanes_data = nhanes_data.query('AgeInYearsAtScreening > 17')\n",
    "adult_nhanes_data = adult_nhanes_data.dropna(subset=['StandingHeightCm']).rename(columns={'StandingHeightCm': 'Height'})"
   ]
  },
  {
   "cell_type": "markdown",
   "metadata": {},
   "source": [
    "Now let's repeatedly sample 50 individuals from the dataset, compute the mean, and store the resulting values.  For this we are going to use a *for loop*, which allows us to repeatedly perform a particular set of actions."
   ]
  },
  {
   "cell_type": "code",
   "execution_count": 5,
   "metadata": {},
   "outputs": [],
   "source": [
    "#+\n",
    "sample_size = 50\n",
    "num_samples = 5000\n",
    "\n",
    "import pandas as pd\n",
    "import numpy as np\n",
    "\n",
    "# set up a variable to store the result\n",
    "sampling_results = pd.DataFrame({'mean': np.zeros(num_samples)})\n",
    "\n",
    "for sample_num in range(num_samples):\n",
    "    sample = adult_nhanes_data.sample(sample_size)\n",
    "    sampling_results.loc[sample_num, 'mean'] = sample['Height'].mean()\n",
    "#-"
   ]
  },
  {
   "cell_type": "markdown",
   "metadata": {},
   "source": [
    "Now let's plot the sampling distribution.  We will also overlay the sampling distribution of the mean predicted on the basis of the population mean and standard deviation, to show that it properly describes the actual sampling distribution.  We also place a vertical line at the population mean."
   ]
  },
  {
   "cell_type": "code",
   "execution_count": 6,
   "metadata": {},
   "outputs": [
    {
     "data": {
      "text/plain": [
       "<Figure size 640x480 with 1 Axes>"
      ]
     },
     "metadata": {},
     "output_type": "display_data"
    }
   ],
   "source": [
    "#+\n",
    "import matplotlib.pyplot as plt\n",
    "import numpy as np\n",
    "import scipy.stats\n",
    "import seaborn as sns\n",
    "\n",
    "hist = plt.hist(sampling_results['mean'], 100, density=True)\n",
    "# hist[0] contains the histogram data\n",
    "# we need to use the maximum of those data to set\n",
    "# the height of the vertical line that shows the mean\n",
    "plt.axvline(x=adult_nhanes_data['Height'].mean(),\n",
    "            ymax=np.max(hist[0]), color='k')\n",
    "\n",
    "# draw the normal distribution with same mean and standard deviation\n",
    "# as the sampling distribution\n",
    "hist_bin_min = np.min(hist[1])\n",
    "hist_bin_max = np.max(hist[1])\n",
    "step_size = 0.01\n",
    "x_values = np.arange(hist_bin_min, hist_bin_max, step_size)\n",
    "normal_values = scipy.stats.norm.pdf(\n",
    "    x_values,\n",
    "    loc=sampling_results['mean'].mean(),\n",
    "    scale=sampling_results['mean'].std())\n",
    "plt.plot(x_values, normal_values, color='r')\n",
    "plt.show()\n",
    "#+"
   ]
  },
  {
   "cell_type": "markdown",
   "metadata": {},
   "source": [
    "## Central limit theorem\n",
    "The central limit theorem tells us that the sampling distribution of the mean becomes normal as the sample size grows.  Let's test this by sampling a clearly non-normal variable and look at the normality of the results using a Q-Q plot. For example, let's look at the variable that represents annual family income.  This variable is oddly distributed:"
   ]
  },
  {
   "cell_type": "code",
   "execution_count": 7,
   "metadata": {
    "lines_to_next_cell": 2
   },
   "outputs": [
    {
     "name": "stderr",
     "output_type": "stream",
     "text": [
      "/Users/johnbutler/anaconda3/lib/python3.7/site-packages/numpy/lib/histograms.py:824: RuntimeWarning: invalid value encountered in greater_equal\n",
      "  keep = (tmp_a >= first_edge)\n",
      "/Users/johnbutler/anaconda3/lib/python3.7/site-packages/numpy/lib/histograms.py:825: RuntimeWarning: invalid value encountered in less_equal\n",
      "  keep &= (tmp_a <= last_edge)\n"
     ]
    },
    {
     "data": {
      "image/png": "[encoded data removed]",
      "text/plain": [
       "<Figure size 432x288 with 1 Axes>"
      ]
     },
     "metadata": {
      "needs_background": "light"
     },
     "output_type": "display_data"
    }
   ],
   "source": [
    "plt.hist(adult_nhanes_data['AnnualFamilyIncome'])\n",
    "plt.show()"
   ]
  },
  {
   "cell_type": "markdown",
   "metadata": {
    "lines_to_next_cell": 2
   },
   "source": [
    "This odd distribution comes in part from the how the variable is coded, as shown [here](https://wwwn.cdc.gov/Nchs/Nhanes/2017-2018/DEMO_J.htm#INDFMIN2). Let's resample this variable 5000 times, compute the mean, and examine the distribution.  To do this, we will create a function that resamples and returns the mean:"
   ]
  },
  {
   "cell_type": "code",
   "execution_count": 8,
   "metadata": {
    "lines_to_next_cell": 2
   },
   "outputs": [],
   "source": [
    "def sample_and_return_mean(df, variable_name, \n",
    "                           sample_size=250, num_samples=5000):\n",
    "    \"\"\"\n",
    "    repeatedly take samples from a particular variable in a data frame\n",
    "    and compute the mean\n",
    "\n",
    "    Parameters:\n",
    "    -----------\n",
    "    df: data frame containing the data\n",
    "    variable_name: the name of the variable to be analyzed\n",
    "    sample_size: the number of observations to sample each time\n",
    "    num_samples: the number of samples to take\n",
    "\n",
    "    Returns:\n",
    "    --------\n",
    "    sampling_distribution: data frame containing the means\n",
    "    \"\"\"\n",
    "    sampling_distribution = pd.DataFrame({'mean': np.zeros(num_samples)})\n",
    "    for sample_number in range(num_samples):\n",
    "        sample_df = df.sample(sample_size)\n",
    "        sampling_distribution.loc[sample_number, 'mean'] = sample_df[variable_name].mean()\n",
    "    return(sampling_distribution)"
   ]
  },
  {
   "cell_type": "markdown",
   "metadata": {
    "lines_to_next_cell": 2
   },
   "source": [
    "Now, using this function, let's compute the sampling distribution for the annual family income variable and plot its histogram. "
   ]
  },
  {
   "cell_type": "code",
   "execution_count": 9,
   "metadata": {
    "lines_to_next_cell": 2
   },
   "outputs": [
    {
     "data": {
      "image/png": "[encoded data removed]",
      "text/plain": [
       "<Figure size 432x288 with 1 Axes>"
      ]
     },
     "metadata": {
      "needs_background": "light"
     },
     "output_type": "display_data"
    }
   ],
   "source": [
    "adult_income_data = adult_nhanes_data.dropna(subset=['AnnualFamilyIncome'])\n",
    "family_income_sampling_dist = sample_and_return_mean(adult_income_data, 'AnnualFamilyIncome')\n",
    "_ = plt.hist(family_income_sampling_dist['mean'], 100)"
   ]
  },
  {
   "cell_type": "markdown",
   "metadata": {},
   "source": [
    "This distribution looks nearly normal.  We can also use a quantile-quantile, or \"Q-Q\" plot, to examine this.  We will plot two Q-Q plots; on the left we plot one for the original data, and on the right we plot one for the sampling distribution of the mean."
   ]
  },
  {
   "cell_type": "code",
   "execution_count": 10,
   "metadata": {
    "lines_to_next_cell": 2
   },
   "outputs": [
    {
     "data": {
      "text/plain": [
       "Text(0.5, 1.0, 'Sampling distribution')"
      ]
     },
     "execution_count": 10,
     "metadata": {},
     "output_type": "execute_result"
    },
    {
     "data": {
      "image/png": "[encoded data removed]",
      "text/plain": [
       "<Figure size 864x432 with 2 Axes>"
      ]
     },
     "metadata": {
      "needs_background": "light"
     },
     "output_type": "display_data"
    }
   ],
   "source": [
    "\n",
    "plt.figure(figsize=(12, 6))\n",
    "plt.subplot(1, 2, 1)\n",
    "scipy.stats.probplot(adult_income_data['AnnualFamilyIncome'], plot=sns.mpl.pyplot)\n",
    "plt.title('Original data')\n",
    "\n",
    "plt.subplot(1, 2, 2)\n",
    "scipy.stats.probplot(family_income_sampling_dist['mean'], plot=sns.mpl.pyplot)\n",
    "plt.title('Sampling distribution')"
   ]
  },
  {
   "cell_type": "markdown",
   "metadata": {
    "lines_to_next_cell": 2
   },
   "source": [
    "We see that the raw data are highly non-normal, evidenced by the fact that the data values diverge greatly from the unit line.  On the other hand, the sampling distribution looks much more normally distributed.\n",
    "\n",
    "## Confidence intervals\n",
    "\n",
    "Remember that confidence intervals are intervals that will contain the population parameter in a certain proportion of samples from the population.  In this example we will walk through [the simulation that was presented in the book](https://statsthinking21.github.io/statsthinking21-core-site/sampling.html#confidence-intervals) to show that this actually works properly.  To do this, let's create a function that takes a sample from the NHANES population and returns the confidence interval for the mean of the `Height` variable within that sample.  We will use the t distribution to obtain our confidence intervals."
   ]
  },
  {
   "cell_type": "code",
   "execution_count": 11,
   "metadata": {},
   "outputs": [],
   "source": [
    "def get_confidence_interval(df, variable_name, \n",
    "                            ci_percent=95,\n",
    "                            sample_size=50):\n",
    "    sample_df = df.sample(sample_size)\n",
    "    mean = sample_df[variable_name].mean()\n",
    "    std = sample_df[variable_name].std()\n",
    "    sem = std / np.sqrt(sample_size)\n",
    "    t_tail_proportion = 1 - ((100 - ci_percent) / 100) / 2\n",
    "    t_cutoff = scipy.stats.t.ppf(t_tail_proportion, sample_size - 1)\n",
    "    upper_ci = mean + sem * t_cutoff\n",
    "    lower_ci = mean - sem * t_cutoff\n",
    "    return([lower_ci, upper_ci])"
   ]
  },
  {
   "cell_type": "markdown",
   "metadata": {},
   "source": [
    "Using this function, let's resample the data 1000 times and look how often the resulting interval contains the population mean."
   ]
  },
  {
   "cell_type": "code",
   "execution_count": 12,
   "metadata": {},
   "outputs": [],
   "source": [
    "\n",
    "num_runs = 1000\n",
    "\n",
    "ci_df = pd.DataFrame({'lower': np.zeros(num_runs),\n",
    "                      'upper': np.zeros(num_runs)})\n",
    "\n",
    "for i in range(num_runs):\n",
    "    ci_df.iloc[i, :] = get_confidence_interval(\n",
    "        adult_nhanes_data,\n",
    "        'Height'\n",
    "    )"
   ]
  },
  {
   "cell_type": "markdown",
   "metadata": {},
   "source": [
    "Now we need to compute the proportion of confidence intervals that capture the population mean (which we know because we are treating the entire NHANES dataset as our population).  Here we will use a trick that relies upon the fact that Python treat `True`/`False` identically to one and zero respectively.  We will test for each of the confidence limits (upper and lower) whether it captures the population mean, and then we will multiply those two series of values together.  This will create a new variable that is True only if both limits capture the population mean. We then simply take the mean of those truth values to compute the poportion of confidence intervals that capture the mean."
   ]
  },
  {
   "cell_type": "code",
   "execution_count": 14,
   "metadata": {},
   "outputs": [
    {
     "data": {
      "text/plain": [
       "0.956"
      ]
     },
     "execution_count": 14,
     "metadata": {},
     "output_type": "execute_result"
    }
   ],
   "source": [
    "ci_df['captures_mean'] = (ci_df['lower'] < adult_nhanes_data['Height'].mean()) & (ci_df['upper'] > adult_nhanes_data['Height'].mean())\n",
    "\n",
    "ci_df['captures_mean'].mean()"
   ]
  },
  {
   "cell_type": "markdown",
   "metadata": {},
   "source": [
    "This number should be very close to 0.95."
   ]
  }
 ],
 "metadata": {
  "jupytext": {
   "formats": "ipynb,py:percent"
  },
  "kernelspec": {
   "display_name": "Python 3",
   "language": "python",
   "name": "python3"
  },
  "language_info": {
   "codemirror_mode": {
    "name": "ipython",
    "version": 3
   },
   "file_extension": ".py",
   "mimetype": "text/x-python",
   "name": "python",
   "nbconvert_exporter": "python",
   "pygments_lexer": "ipython3",
   "version": "3.7.3"
  }
 },
 "nbformat": 4,
 "nbformat_minor": 4
}
