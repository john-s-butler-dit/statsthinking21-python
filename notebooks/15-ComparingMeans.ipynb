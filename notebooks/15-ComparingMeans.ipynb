{
 "cells": [
  {
   "cell_type": "markdown",
   "metadata": {},
   "source": [
    "# Comparing means"
   ]
  },
  {
   "cell_type": "code",
   "execution_count": 64,
   "metadata": {},
   "outputs": [],
   "source": [
    "import numpy as np\n",
    "import pandas as pd\n",
    "import matplotlib.pyplot as plt\n",
    "from scipy import stats\n",
    "import seaborn as sns"
   ]
  },
  {
   "cell_type": "code",
   "execution_count": 60,
   "metadata": {},
   "outputs": [],
   "source": [
    "# load the NHANES data library\n",
    "from nhanes.load import load_NHANES_data\n",
    "nhanes_data = load_NHANES_data()\n",
    "adult_nhanes_data = nhanes_data.query('AgeInYearsAtScreening > 17')\n",
    "## Need to remove duplicates\n",
    "#nhanes_data=nhanes_data.drop_duplicates(subset =\"ID\",  keep = 'first', inplace = True)\n",
    "adult_nhanes_data=adult_nhanes_data.dropna(subset=['BodyMassIndexKgm2']) # Removing NA's"
   ]
  },
  {
   "cell_type": "markdown",
   "metadata": {},
   "source": [
    "We have already encountered a number of cases where we wanted to ask questions about the mean of a sample.  \n",
    "In this chapter, we will delve deeper into the various ways that we can compare means.\n",
    "\n",
    "\n",
    "## Testing the value of a single mean {#single-mean}\n",
    "\n",
    "The simplest question we might want to ask of a mean is whether it has a specific value.  Let's say that we want to test whether the mean BMI value in adults from the NHANES dataset is above 25, which is the lower cutoff for being overweight according to the US Centers for Disease Control.  We take a sample of 200 adults in order to ask this question."
   ]
  },
  {
   "cell_type": "code",
   "execution_count": 61,
   "metadata": {},
   "outputs": [
    {
     "data": {
      "image/png": "[encoded data removed]",
      "text/plain": [
       "<Figure size 432x288 with 1 Axes>"
      ]
     },
     "metadata": {
      "needs_background": "light"
     },
     "output_type": "display_data"
    }
   ],
   "source": [
    "adult_nhames_sample=adult_nhanes_data.sample(n=200, random_state=1)\n",
    "fig, ax= plt.subplots(1, 1, figsize=(6,4))\n",
    "ax=adult_nhames_sample['BodyMassIndexKgm2'].hist()\n",
    "ax.axvline(25,color='g',linewidth=4)\n",
    "\n",
    "adult_nhames_sample['BMIdiff']=adult_nhames_sample['BodyMassIndexKgm2']>25"
   ]
  },
  {
   "cell_type": "markdown",
   "metadata": {},
   "source": [
    "One simple way to test for this difference is using a test called the *sign test*, \n",
    "which asks whether the proportion of positive differences between the actual value and the hypothesized value is different than what we would expect by chance.  To do this, we take the differences between each data point and the hypothesized mean value and compute their sign.  In our sample, we see that `r I(sprintf('%0.1f',mean(NHANES_sample$BMIdiff)*100))` percent of individuals have a BMI greater than 25.  We can then use a binomial test to ask whether this proportion of positive differences is greater than 0.5, using the `binom_test()` function in Python:"
   ]
  },
  {
   "cell_type": "code",
   "execution_count": 62,
   "metadata": {},
   "outputs": [
    {
     "name": "stdout",
     "output_type": "stream",
     "text": [
      "2.0076963966165487e-10\n"
     ]
    }
   ],
   "source": [
    "# compute sign test for differences between first and second measurement\n",
    "npos = np.sum(adult_nhames_sample['BMIdiff'])\n",
    "bt=stats.binom_test(npos, n=adult_nhames_sample.shape[0], p=0.5, alternative='greater')\n",
    "print(bt)"
   ]
  },
  {
   "cell_type": "markdown",
   "metadata": {},
   "source": [
    "Here we see that the proportion of individuals with positive signs would be *very* surprising under the null hypothesis of $p=0.5$. \n",
    "\n",
    "We can also ask this question using Student's t-test, which you have already encountered earlier in the book.  We will refer to the mean as $\\bar{X}$ and the hypothesized population mean as $\\mu$.  Then, the t test for a single mean is:\n",
    "\n",
    "$$\n",
    "t = \\frac{\\bar{X} - \\mu}{SEM}\n",
    "$$\n",
    "where SEM (as you may remember from the chapter on sampling) is defined as:\n",
    "\n",
    "$$\n",
    "SEM = \\frac{\\hat{\\sigma}}{\\sqrt{n}}\n",
    "$$\n",
    "\n",
    "In essence, the t statistic asks how large the deviation of the sample mean from the hypothesized quantity is with respect to the sampling variability of the mean.\n",
    "\n",
    "We can compute this for the NHANES dataset using the ```t.ttest_1samp()``` function in Python:"
   ]
  },
  {
   "cell_type": "code",
   "execution_count": 63,
   "metadata": {},
   "outputs": [
    {
     "data": {
      "text/plain": [
       "Ttest_1sampResult(statistic=41.756178548690286, pvalue=2.0768446051226403e-100)"
      ]
     },
     "execution_count": 63,
     "metadata": {},
     "output_type": "execute_result"
    }
   ],
   "source": [
    "\n",
    "stats.ttest_1samp(adult_nhames_sample['BodyMassIndexKgm2'],5.0)\n"
   ]
  },
  {
   "cell_type": "markdown",
   "metadata": {},
   "source": [
    "This shows us that the mean BMI in the dataset (`r I(tt$estimate)`) is significantly larger than the cutoff for overweight.\n",
    "\n",
    "## Comparing two means {#comparing-two-means}\n",
    "\n",
    "A more common question that often arises in statistics is whether there is a difference between the means of two different groups.  Let's say that we would like to know whether regular marijuana smokers watch more television.  We can ask this question using the NHANES dataset; let's take a sample of 200 individuals from the dataset and test whether the number of hours of television watching per day is related to regular marijuana use.  The left panel of Figure \\@ref(fig:PotTVViolin) shows these data using a violin plot."
   ]
  },
  {
   "cell_type": "code",
   "execution_count": 81,
   "metadata": {},
   "outputs": [
    {
     "name": "stdout",
     "output_type": "stream",
     "text": [
      "SEQN\n",
      "101025.0     True\n",
      "100697.0    False\n",
      "95215.0      True\n",
      "102149.0     True\n",
      "101783.0    False\n",
      "            ...  \n",
      "102218.0     True\n",
      "99459.0      True\n",
      "100301.0     True\n",
      "96505.0      True\n",
      "95738.0      True\n",
      "Name: GenderNum, Length: 200, dtype: bool\n"
     ]
    },
    {
     "data": {
      "image/png": "[encoded data removed]",
      "text/plain": [
       "<Figure size 432x288 with 1 Axes>"
      ]
     },
     "metadata": {
      "needs_background": "light"
     },
     "output_type": "display_data"
    }
   ],
   "source": [
    "# In the R code it was TVHrsDay\n",
    "\n",
    "adult_nhanes_data=adult_nhanes_data.dropna(subset=['EverUsedMarijuanaOrHashish','SleepHoursWeekdaysOrWorkdays']) # Removing NA's\n",
    "adult_nhames_sample=adult_nhanes_data.sample(n=200, random_state=1)\n",
    "adult_nhames_sample['GenderNum']=adult_nhames_sample['Gender']=='Female'\n",
    "\n",
    "ax = sns.violinplot(x=adult_nhames_sample['Gender'],y=adult_nhames_sample['SleepHoursWeekdaysOrWorkdays'])"
   ]
  },
  {
   "cell_type": "code",
   "execution_count": 74,
   "metadata": {},
   "outputs": [
    {
     "data": {
      "text/plain": [
       "Ttest_indResult(statistic=1.8290052331925075, pvalue=0.06890307704549511)"
      ]
     },
     "execution_count": 74,
     "metadata": {},
     "output_type": "execute_result"
    }
   ],
   "source": [
    "Group1 = adult_nhames_sample[adult_nhames_sample['Gender']=='Female']\n",
    "Group2 = adult_nhames_sample[adult_nhames_sample['Gender']=='Male']\n",
    "stats.ttest_ind(Group1['SleepHoursWeekdaysOrWorkdays'], Group2['SleepHoursWeekdaysOrWorkdays'])"
   ]
  },
  {
   "cell_type": "markdown",
   "metadata": {},
   "source": [
    "We can also use Student's t test to test for differences between two groups of independent observations (as we saw in an earlier chapter); we will turn later in the chapter to cases where the observations are not independent.  As a reminder, the t-statistic for comparison of two independent groups is computed as:\n",
    "\n",
    "$$\n",
    "t = \\frac{\\bar{X_1} - \\bar{X_2}}{\\sqrt{\\frac{S_1^2}{n_1} + \\frac{S_2^2}{n_2}}}\n",
    "$$\n",
    "\n",
    "where $\\bar{X}_1$ and $\\bar{X}_2$ are the means of the two groups, $S^2_1$ and $S^2_2$ are the variances for each of the groups, and $n_1$ and $n_2$ are the sizes of the two groups.  Under the null hypothesis of no difference between means, this statistic is distributed according to a t distribution with n-2 degrees of freedom (since we have computed two parameter estimates, namely the means of the two groups).  We can compute the independent t-test in Python using the ```ttest_ind()``` function. In this case, we started with the specific hypothesis that smoking marijuana is associated with greater TV watching, so we will use a one-tailed test.  Since the t.test function orders the conditions alphabetically, the \"No\" group comes first, and thus we need to test the alternative hypothesis of whether the first group is less than the second (\"Yes\") group; for this reason, we specify 'less' as our alternative."
   ]
  },
  {
   "cell_type": "code",
   "execution_count": null,
   "metadata": {},
   "outputs": [],
   "source": [
    "#```{r echo=FALSE,warning=FALSE}\n",
    "# compute t test for tv watching as function of marijuana use\n",
    "#ttresult\n",
    "#```"
   ]
  },
  {
   "cell_type": "markdown",
   "metadata": {},
   "source": [
    "In this case we see that there is a statistically significant difference between groups, in the expected direction - regular pot smokers watch more TV.\n",
    "\n",
    "## The t-test as a linear model {#ttest-linear-model}\n",
    "\n",
    "The t-test is often presented as a specialized tool for comparing means, but it can also be viewed as an application of the general linear model.  In this case, the model would look like this:\n",
    "\n",
    "$$\n",
    "\\hat{TV} = \\hat{\\beta_1}*Marijuana + \\hat{\\beta_0}\n",
    "$$\n",
    "However, smoking is a binary variable, so we treat it as a *dummy variable* like we discussed in the previous chapter, setting it to a value of 1 for smokers and zero for nonsmokers.  In that case, $\\hat{\\beta_1}$ is simply the difference in means between the two groups, and $\\hat{\\beta_0}$ is the mean for the group that was coded as zero.  We can fit this model using the ```lm()``` function, and see that it gives the same t statistic as the t-test above:"
   ]
  },
  {
   "cell_type": "code",
   "execution_count": 94,
   "metadata": {},
   "outputs": [
    {
     "data": {
      "text/html": [
       "<table class=\"simpletable\">\n",
       "<caption>OLS Regression Results</caption>\n",
       "<tr>\n",
       "  <th>Dep. Variable:</th>    <td>SleepHoursWeekdaysOrWorkdays</td> <th>  R-squared:         </th> <td>   0.017</td>\n",
       "</tr>\n",
       "<tr>\n",
       "  <th>Model:</th>                         <td>OLS</td>             <th>  Adj. R-squared:    </th> <td>   0.012</td>\n",
       "</tr>\n",
       "<tr>\n",
       "  <th>Method:</th>                   <td>Least Squares</td>        <th>  F-statistic:       </th> <td>   3.345</td>\n",
       "</tr>\n",
       "<tr>\n",
       "  <th>Date:</th>                   <td>Fri, 17 Jul 2020</td>       <th>  Prob (F-statistic):</th>  <td>0.0689</td> \n",
       "</tr>\n",
       "<tr>\n",
       "  <th>Time:</th>                       <td>22:58:56</td>           <th>  Log-Likelihood:    </th> <td> -378.03</td>\n",
       "</tr>\n",
       "<tr>\n",
       "  <th>No. Observations:</th>            <td>   200</td>            <th>  AIC:               </th> <td>   760.1</td>\n",
       "</tr>\n",
       "<tr>\n",
       "  <th>Df Residuals:</th>                <td>   198</td>            <th>  BIC:               </th> <td>   766.6</td>\n",
       "</tr>\n",
       "<tr>\n",
       "  <th>Df Model:</th>                    <td>     1</td>            <th>                     </th>     <td> </td>   \n",
       "</tr>\n",
       "<tr>\n",
       "  <th>Covariance Type:</th>            <td>nonrobust</td>          <th>                     </th>     <td> </td>   \n",
       "</tr>\n",
       "</table>\n",
       "<table class=\"simpletable\">\n",
       "<tr>\n",
       "          <td></td>             <th>coef</th>     <th>std err</th>      <th>t</th>      <th>P>|t|</th>  <th>[0.025</th>    <th>0.975]</th>  \n",
       "</tr>\n",
       "<tr>\n",
       "  <th>Intercept</th>         <td>    7.2893</td> <td>    0.146</td> <td>   49.803</td> <td> 0.000</td> <td>    7.001</td> <td>    7.578</td>\n",
       "</tr>\n",
       "<tr>\n",
       "  <th>GenderNum[T.True]</th> <td>    0.4259</td> <td>    0.233</td> <td>    1.829</td> <td> 0.069</td> <td>   -0.033</td> <td>    0.885</td>\n",
       "</tr>\n",
       "</table>\n",
       "<table class=\"simpletable\">\n",
       "<tr>\n",
       "  <th>Omnibus:</th>       <td> 0.836</td> <th>  Durbin-Watson:     </th> <td>   2.195</td>\n",
       "</tr>\n",
       "<tr>\n",
       "  <th>Prob(Omnibus):</th> <td> 0.658</td> <th>  Jarque-Bera (JB):  </th> <td>   0.520</td>\n",
       "</tr>\n",
       "<tr>\n",
       "  <th>Skew:</th>          <td>-0.065</td> <th>  Prob(JB):          </th> <td>   0.771</td>\n",
       "</tr>\n",
       "<tr>\n",
       "  <th>Kurtosis:</th>      <td> 3.213</td> <th>  Cond. No.          </th> <td>    2.44</td>\n",
       "</tr>\n",
       "</table><br/><br/>Warnings:<br/>[1] Standard Errors assume that the covariance matrix of the errors is correctly specified."
      ],
      "text/plain": [
       "<class 'statsmodels.iolib.summary.Summary'>\n",
       "\"\"\"\n",
       "                                 OLS Regression Results                                 \n",
       "========================================================================================\n",
       "Dep. Variable:     SleepHoursWeekdaysOrWorkdays   R-squared:                       0.017\n",
       "Model:                                      OLS   Adj. R-squared:                  0.012\n",
       "Method:                           Least Squares   F-statistic:                     3.345\n",
       "Date:                          Fri, 17 Jul 2020   Prob (F-statistic):             0.0689\n",
       "Time:                                  22:58:56   Log-Likelihood:                -378.03\n",
       "No. Observations:                           200   AIC:                             760.1\n",
       "Df Residuals:                               198   BIC:                             766.6\n",
       "Df Model:                                     1                                         \n",
       "Covariance Type:                      nonrobust                                         \n",
       "=====================================================================================\n",
       "                        coef    std err          t      P>|t|      [0.025      0.975]\n",
       "-------------------------------------------------------------------------------------\n",
       "Intercept             7.2893      0.146     49.803      0.000       7.001       7.578\n",
       "GenderNum[T.True]     0.4259      0.233      1.829      0.069      -0.033       0.885\n",
       "==============================================================================\n",
       "Omnibus:                        0.836   Durbin-Watson:                   2.195\n",
       "Prob(Omnibus):                  0.658   Jarque-Bera (JB):                0.520\n",
       "Skew:                          -0.065   Prob(JB):                        0.771\n",
       "Kurtosis:                       3.213   Cond. No.                         2.44\n",
       "==============================================================================\n",
       "\n",
       "Warnings:\n",
       "[1] Standard Errors assume that the covariance matrix of the errors is correctly specified.\n",
       "\"\"\""
      ]
     },
     "execution_count": 94,
     "metadata": {},
     "output_type": "execute_result"
    }
   ],
   "source": [
    "from statsmodels.formula.api import ols\n",
    "ols_model = ols(formula='SleepHoursWeekdaysOrWorkdays~ GenderNum + 1', data=adult_nhames_sample)\n",
    "ols_result = ols_model.fit()\n",
    "ols_result.summary()"
   ]
  },
  {
   "cell_type": "markdown",
   "metadata": {},
   "source": [
    "We can also view the linear model results graphically (see the right panel of Figure \\@ref(fig:PotTVViolin)).  In this case, the predicted value for nonsmokers is $\\hat{\\beta_0}$ (`r I(lm_summary$coefficients[1,1])`) and the predicted value for smokers is $\\hat{\\beta_0} +\\hat{\\beta_1}$ (`r I(lm_summary$coefficients[1,1] + lm_summary$coefficients[2,1])`).  \n",
    "\n",
    "To compute the standard errors for this analysis, we can use exactly the same equations that we used for linear regression -- since this really is just another example of linear regression.  In fact, if you compare the p-value from the t-test above with the p-value in the linear regression analysis for the marijuana use variable, you will see that the one from the linear regression analysis is exactly twice the one from the t-test, because the linear regression analysis is performing a two-tailed test.  \n",
    "\n",
    "### Effect sizes for comparing two means\n",
    "\n",
    "The most commonly used effect size for a comparison between two means is Cohen's d, which (as you may remember from Chapter \\@ref(ci-effect-size-power)) is an expression of the effect in terms of standard error units.  For the t-test estimated using the general linear model outlined above (i.e. with a single dummy-coded variable), this is expressed as:\n",
    "\n",
    "$$\n",
    "d = \\frac{\\hat{beta_1}}{SE_{residual}}\n",
    "$$\n",
    "We can obtain these values from the analysis output above, giving us a d = `r I(lm_summary$coefficients[2,1]/lm_summary$sigma)`, which we would generally interpret as a medium sized effect.\n",
    "\n",
    "We can also compute $R^2$ for this analysis, which tells us how much variance in TV watching is accounted for.  This value (which is reported in the summary of the lm() analysis) is `r I(lm_summary$r.squared)`, which tells us that while the effect may be statistically significant, it accounts for relatively little of the variance in TV watching.\n",
    "\n",
    "## Bayes factor for mean differences\n",
    "\n",
    "As we discussed in the chapter on Bayesian analysis, Bayes factors provide a way to better quantify evidence in favor or against the null hypothesis of no difference.  In this case, we want to specifically test against the null hypothesis that the difference is greater than zero - because the difference is computed by the function between the first group ('No') and the second group ('Yes'). Thus, we specify a \"null interval\" going from zero to infinity, which means that the alternative is less than zero."
   ]
  },
  {
   "cell_type": "code",
   "execution_count": null,
   "metadata": {},
   "outputs": [],
   "source": [
    "```{r echo=FALSE}\n",
    "# compute bayes factor for group comparison\n",
    "bf <- ttestBF(\n",
    "  formula = TVHrsNum ~ RegularMarij, \n",
    "  data = NHANES_sample, \n",
    "  nullInterval = c(0, Inf)\n",
    ")\n",
    "bf\n",
    "```"
   ]
  },
  {
   "cell_type": "markdown",
   "metadata": {},
   "source": [
    "This shows us that the evidence against the null hypothesis is moderately strong.\n",
    "\n",
    "## Comparing paired observations {#paired-ttests}"
   ]
  },
  {
   "cell_type": "code",
   "execution_count": null,
   "metadata": {},
   "outputs": [],
   "source": [
    "```{r BPfig, echo=FALSE,fig.cap='Left: Violin plot of systolic blood pressure on first and second recording, from NHANES. Right: Same violin plot with lines connecting the two data points for each individual.',fig.width=8,fig.height=4,out.height='50%'}\n",
    "set.seed(12345678)\n",
    "NHANES_sample <- \n",
    "  NHANES %>% \n",
    "  dplyr::filter(Age>17 & !is.na(BPSys2) & !is.na(BPSys1)) %>%\n",
    "  dplyr::select(BPSys1,BPSys2,ID) %>%\n",
    "  sample_n(200)\n",
    "NHANES_sample_tidy <- \n",
    "  NHANES_sample %>%\n",
    "  gather(timepoint,BPsys,-ID)\n",
    "NHANES_sample <- \n",
    "  NHANES_sample %>%\n",
    "  mutate(\n",
    "    diff=BPSys1-BPSys2,\n",
    "    diffPos=as.integer(diff>0),\n",
    "    meanBP=(BPSys1+BPSys2)/2\n",
    "  )\n",
    "p1 <- ggplot(NHANES_sample_tidy,aes(timepoint,BPsys)) + \n",
    "  geom_violin() +\n",
    "  scale_x_discrete(\n",
    "    labels = c(\"Time 1\", \"Time 2\"),\n",
    "  ) \n",
    "p2 <- p1 +geom_line(aes(group=ID))\n",
    "plot_grid(p1, p2)\n",
    "```"
   ]
  },
  {
   "cell_type": "markdown",
   "metadata": {},
   "source": [
    "In experimental research, we often use *within-subjects* designs, in which we compare the same person on multiple measurements.  The measurement that come from this kind of design are often referred to as *repeated measures*. For example, in the NHANES dataset blood pressure was measured three times. Let's say that we are interested in testing whether there is a difference in mean blood pressure between the first and second measurement (Figure  \\@ref(fig:BPfig)). We see that there does not seem to be much of a difference in mean blood pressure between time points (about one point). First let's test for a difference using an independent samples t-test, which ignores the fact that pairs of data points come from the the same individuals.   "
   ]
  },
  {
   "cell_type": "code",
   "execution_count": null,
   "metadata": {},
   "outputs": [],
   "source": [
    "```{r echo=FALSE}\n",
    "t.test(\n",
    "  BPsys ~ timepoint,\n",
    "  data = NHANES_sample_tidy,\n",
    "  paired = FALSE, \n",
    "  var.equal = TRUE\n",
    ")\n",
    "```"
   ]
  },
  {
   "cell_type": "markdown",
   "metadata": {},
   "source": [
    "This analysis shows no significant difference. However, this analysis is inappropriate since it assumes that the two samples are independent, when in fact they are not, since the data come from the same individuals.  We can plot the data with a line for each individual to show this (see Figure \\@ref(fig:BPLinePlot)).\n",
    "\n",
    "In this analysis, what we really care about is whether the blood pressure for each person changed in a systematic way between the two measurements, so another way to represent the data is to compute the difference between the two timepoints for each individual, and then analyze these difference scores rather than analyzing the individual measurements. In Figure \\@ref(fig:BPDiffHist), we show a histogram of these difference scores, with a blue line denoting the mean difference."
   ]
  },
  {
   "cell_type": "code",
   "execution_count": null,
   "metadata": {},
   "outputs": [],
   "source": [
    "```{r BPDiffHist,echo=FALSE,fig.cap=\"Histogram of difference scores between first and second BP measurement. The vertical line represents the mean difference in the sample.\",fig.width=4,fig.height=4,out.height='50%'}\n",
    "ggplot(NHANES_sample,aes(diff)) + \n",
    "  geom_histogram(bins=20) +\n",
    "  geom_vline(xintercept = mean(NHANES_sample$diff),color='blue')\n",
    "```"
   ]
  },
  {
   "cell_type": "markdown",
   "metadata": {},
   "source": [
    "### Sign test\n",
    "\n",
    "One simple way to test for differences is using the *sign test*. To do this, we take the differences and compute their sign, and then we use a binomial test to ask whether the proportion of positive signs differs from 0.5."
   ]
  },
  {
   "cell_type": "code",
   "execution_count": null,
   "metadata": {},
   "outputs": [],
   "source": [
    "```{r echo=FALSE}\n",
    "# compute sign test for differences between first and second measurement\n",
    "npos <- sum(NHANES_sample$diffPos)\n",
    "bt <- binom.test(npos, nrow(NHANES_sample))\n",
    "bt\n",
    "```"
   ]
  },
  {
   "cell_type": "markdown",
   "metadata": {},
   "source": [
    "Here we see that the proportion of individuals with positive signs (`r I(bt$estimate)`) is not large enough to be surprising under the null hypothesis of $p=0.5$. However, one problem with the sign test is that it is throwing away information about the magnitude of the differences, and thus might be missing something.\n",
    "\n",
    "### Paired t-test\n",
    "A more common strategy is to use a *paired t-test*, which is equivalent to a one-sample t-test for whether the mean difference between the measurements is zero.  We can compute this using the ```t.test()``` function in R and setting ```paired=TRUE```.  "
   ]
  },
  {
   "cell_type": "code",
   "execution_count": null,
   "metadata": {},
   "outputs": [],
   "source": [
    "```{r echo=FALSE}\n",
    "# compute paired t-test\n",
    "t.test(BPsys ~ timepoint, data = NHANES_sample_tidy, paired = TRUE)\n",
    "```"
   ]
  },
  {
   "cell_type": "markdown",
   "metadata": {},
   "source": [
    "With this analyses we see that there is in fact a significant difference between the two measurements. Let's compute the Bayes factor to see how much evidence is provided by the result:"
   ]
  },
  {
   "cell_type": "code",
   "execution_count": null,
   "metadata": {},
   "outputs": [],
   "source": [
    "```{r echo=FALSE}\n",
    "# compute Bayes factor for paired t-test\n",
    "ttestBF(x = NHANES_sample$BPSys1, y = NHANES_sample$BPSys2, paired = TRUE)\n",
    "```"
   ]
  },
  {
   "cell_type": "markdown",
   "metadata": {},
   "source": [
    "This shows us that although the effect was significant in a paired t-test, it actually provides very little evidence in favor of the alternative hypothesis. \n",
    "\n",
    "The paired t-test can also be defined in terms of a linear model; see the Appendix for more details on this.\n",
    "\n",
    "## Comparing more than two means\n",
    "\n",
    "Often we want to compare more than two means to determine whether any of them differ from one another.  Let's say that we are analyzing data from a clinical trial for the treatment of high blood pressure.  In the study, volunteers are randomized to one of three conditions: Drug 1, Drug 2 or placebo.  Let's generate some data and plot them (see Figure \\@ref(fig:DrugTrial))"
   ]
  },
  {
   "cell_type": "code",
   "execution_count": null,
   "metadata": {},
   "outputs": [],
   "source": [
    "```{r DrugTrial, echo=FALSE,fig.cap='Box plots showing blood pressure for three different groups in our clinical trial.',fig.width=4,fig.height=4,out.height='50%'}\n",
    "set.seed(123456)\n",
    "nPerGroup <- 36\n",
    "noiseSD <- 10\n",
    "meanSysBP <- 140\n",
    "effectSize <- 0.8\n",
    "df <- data.frame(\n",
    "  group=as.factor(c(rep('placebo',nPerGroup),\n",
    "                    rep('drug1',nPerGroup),\n",
    "                    rep('drug2',nPerGroup))),\n",
    "  sysBP=NA) \n",
    "df$sysBP[df$group=='placebo'] <- rnorm(nPerGroup,mean=meanSysBP,sd=noiseSD)\n",
    "df$sysBP[df$group=='drug1'] <- rnorm(nPerGroup,mean=meanSysBP-noiseSD*effectSize,sd=noiseSD)\n",
    "df$sysBP[df$group=='drug2'] <- rnorm(nPerGroup,mean=meanSysBP,sd=noiseSD)\n",
    "ggplot(df,aes(group,sysBP)) + geom_boxplot()\n",
    "```"
   ]
  },
  {
   "cell_type": "markdown",
   "metadata": {},
   "source": [
    "### Analysis of variance {#ANOVA}\n",
    "\n",
    "We would first like to test the null hypothesis that the means of all of the groups are equal -- that is, neither of the treatments had any effect. We can do this using a method called *analysis of variance* (ANOVA). This is one of the most commonly used methods in psychological statistics, and we will only scratch the surface here.  The basic idea behind ANOVA is one that we already discussed in the chapter on the general linear model, and in fact ANOVA is just a name for a specific implementation of such a model.\n",
    "\n",
    "Remember from the last chapter that we can partition the total variance in the data ($SS_{total}$) into the variance that is explained by the model ($SS_{model}$) and the variance that is not ($SS_{error}$).  We can then compute a *mean square* for each of these by dividing them by their degrees of freedom; for the error this is $N - p$ (where $p$ is the number of means that we have computed), and for the model this is $p - 1$:\n",
    "\n",
    "$$\n",
    "MS_{model} =\\frac{SS_{model}}{df_{model}}= \\frac{SS_{model}}{p-1}\n",
    "$$\n",
    "\n",
    "$$\n",
    "MS_{error} = \\frac{SS_{error}}{df_{error}} = \\frac{SS_{error}}{N - p}\n",
    "$$\n",
    "\n",
    "With ANOVA, we want to test whether the variance accounted for by the model is greater than what we would expect by chance, under the null hypothesis of no differences between means.  Whereas for the t distribution the expected value is zero under the null hypothesis, that's not the case here, since sums of squares are always positive numbers.  Fortunately, there is another standard distribution that describes how ratios of sums of squares are distributed under the null hypothesis: The *F* distribution (see figure \\@ref(fig:FDist)). This distribution has two degrees of freedom, which correspond to the degrees of freedom for the numerator (which in this case is the model), and the denominator (which in this case is the error)."
   ]
  },
  {
   "cell_type": "code",
   "execution_count": null,
   "metadata": {},
   "outputs": [],
   "source": [
    "```{r FDist, echo=FALSE,fig.cap='F distributions under the null hypothesis, for different values of degrees of freedom.',fig.width=4,fig.height=4,out.height='50%'}\n",
    "fdata <- \n",
    "  data.frame(x=seq(0.1,10,.1)) %>%\n",
    "  mutate(\n",
    "    f_1_1=df(x,1,1),\n",
    "    f_1_50=df(x,1,50),\n",
    "    f_10_50=df(x,10,50)\n",
    "  )\n",
    "ggplot(fdata,aes(x,f_1_1)) +\n",
    "  geom_line() +\n",
    "  geom_line(aes(x,f_1_50),linetype='dotted') +\n",
    "  geom_line(aes(x,f_10_50),linetype='dashed') +\n",
    "  labs(y = \"Density\", x = \"F values\")\n",
    "  \n",
    "```"
   ]
  },
  {
   "cell_type": "markdown",
   "metadata": {},
   "source": [
    "To create an ANOVA model, we extend the idea of *dummy coding* that you encountered in the last chapter. Remember that for the t-test comparing two means, we created a single dummy variable that took the value of 1 for one of the conditions and zero for the others.  Here we extend that idea by creating two dummy variables, one that codes for the Drug 1 condition and the other that codes for the Drug 2 condition.  Just as in the t-test, we will have one condition (in this case, placebo) that doesn't have a dummy variable, and thus represents the baseline against which the others are compared; its mean defines the intercept of the model. Let's create the dummy coding for drugs 1 and 2."
   ]
  },
  {
   "cell_type": "code",
   "execution_count": null,
   "metadata": {},
   "outputs": [],
   "source": [
    "```{r echo=FALSE}\n",
    "# create dummy variables for drug1 and drug2\n",
    "df <-\n",
    "  df %>%\n",
    "  mutate(\n",
    "    d1 = as.integer(group == \"drug1\"), # 1s for drug1, 0s for all other drugs\n",
    "    d2 = as.integer(group == \"drug2\")  # 1s for drug2, 0s for all other drugs\n",
    "  )\n",
    "```"
   ]
  },
  {
   "cell_type": "markdown",
   "metadata": {},
   "source": [
    "Now we can fit a model using the same approach that we used in the previous chapter:"
   ]
  },
  {
   "cell_type": "code",
   "execution_count": null,
   "metadata": {},
   "outputs": [],
   "source": [
    "```{r echo=FALSE}\n",
    "# test model without separate duymmies\n",
    "lmResultAnovaBasic <- lm(sysBP ~ group, data=df)\n",
    "emm.result <- emmeans(lmResultAnovaBasic, \"group\" )\n",
    "# pairs(emm.result)\n",
    "```"
   ]
  },
  {
   "cell_type": "code",
   "execution_count": null,
   "metadata": {},
   "outputs": [],
   "source": [
    "```{r echo=FALSE}\n",
    "# fit ANOVA model\n",
    "lmResultANOVA <- lm(sysBP ~ d1 + d2, data = df)\n",
    "summary(lmResultANOVA)\n",
    "```"
   ]
  },
  {
   "cell_type": "markdown",
   "metadata": {},
   "source": [
    "The output from this command provides us with two things.  First, it shows us the result of a t-test for each of the dummy variables, which basically tell us whether each of the conditions separately differs from placebo; it appears that Drug 1 does whereas Drug 2 does not.  However, keep in mind that if we wanted to interpret these tests, we would need to correct the p-values to account for the fact that we have done multiple hypothesis tests; we will see an example of how to do this in the next chapter.\n",
    "\n",
    "Remember that the hypothesis that we started out wanting to test was whether there was any difference between any of the conditions; we refer to this as an *omnibus* hypothesis test, and it is the test that is provided by the F statistic. The F statistic basically tells us whether our model is better than a simple model that just includes an intercept.  In this case we see that the F test is highly significant, consistent with our impression that there did seem to be differences between the groups (which in fact we know there were, because we created the data)."
   ]
  },
  {
   "cell_type": "code",
   "execution_count": null,
   "metadata": {},
   "outputs": [],
   "source": [
    "```{r echo=FALSE}\n",
    "# Add section on post-hoc tests using emmeans\n",
    "```"
   ]
  },
  {
   "cell_type": "markdown",
   "metadata": {},
   "source": [
    "## Learning objectives\n",
    "\n",
    "After reading this chapter, you should be able to:\n",
    "\n",
    "* Describe the rationale behind the sign test\n",
    "* Describe how the t-test can be used to compare a single mean to a hypothesized value\n",
    "* Compare the means for two paired or unpaired groups using a two-sample t-test\n",
    "\n",
    "\n",
    "## Appendix\n",
    "\n",
    "### The paired t-test as a linear model\n",
    "\n",
    "We can also define the paired t-test in terms of a general linear model.  To do this, we include all of the measurements for each subject as data points (within a tidy data frame).  We then include in the model a variable that codes for the identity of each individual (in this case, the ID variable that contains a subject ID for each person). This is known as a *mixed model*, since it includes effects of independent variables as well as effects of individuals.  The standard model fitting procedure ```lm()``` can't do this, but we can do it using the ```lmer()``` function from a popular R package called *lme4*, which is specialized for estimating mixed models.  The ```(1|ID)``` in the formula tells `lmer()` to estimate a separate intercept (which is what the ```1``` refers to) for each value of the ```ID``` variable (i.e. for each individual in the dataset), and then estimate a common slope relating timepoint to BP."
   ]
  },
  {
   "cell_type": "code",
   "execution_count": null,
   "metadata": {},
   "outputs": [],
   "source": [
    "```{r,messages=FALSE}\n",
    "# compute mixed model for paired test\n",
    "lmrResult <- lmer(BPsys ~ timepoint + (1 | ID), \n",
    "                  data = NHANES_sample_tidy)\n",
    "summary(lmrResult)\n",
    "```"
   ]
  },
  {
   "cell_type": "markdown",
   "metadata": {},
   "source": [
    "You can see that this shows us a p-value that is very close to the result from the paired t-test computed using the ```t.test()``` function."
   ]
  },
  {
   "cell_type": "code",
   "execution_count": null,
   "metadata": {},
   "outputs": [],
   "source": []
  }
 ],
 "metadata": {
  "kernelspec": {
   "display_name": "Python 3",
   "language": "python",
   "name": "python3"
  },
  "language_info": {
   "codemirror_mode": {
    "name": "ipython",
    "version": 3
   },
   "file_extension": ".py",
   "mimetype": "text/x-python",
   "name": "python",
   "nbconvert_exporter": "python",
   "pygments_lexer": "ipython3",
   "version": "3.7.3"
  }
 },
 "nbformat": 4,
 "nbformat_minor": 4
}
