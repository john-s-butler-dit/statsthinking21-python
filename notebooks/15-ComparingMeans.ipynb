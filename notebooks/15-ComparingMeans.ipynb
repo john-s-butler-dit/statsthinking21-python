{
 "cells": [
  {
   "cell_type": "markdown",
   "metadata": {},
   "source": [
    "# Comparing means"
   ]
  },
  {
   "cell_type": "code",
   "execution_count": 1,
   "metadata": {},
   "outputs": [],
   "source": [
    "import numpy as np\n",
    "import pandas as pd\n",
    "import matplotlib.pyplot as plt\n",
    "from scipy import stats\n",
    "import seaborn as sns"
   ]
  },
  {
   "cell_type": "code",
   "execution_count": 2,
   "metadata": {},
   "outputs": [
    {
     "name": "stderr",
     "output_type": "stream",
     "text": [
      "/Users/johnbutler/anaconda3/lib/python3.7/site-packages/IPython/core/interactiveshell.py:3248: DtypeWarning: Columns (142) have mixed types.Specify dtype option on import or set low_memory=False.\n",
      "  if (await self.run_code(code, result,  async_=asy)):\n"
     ]
    }
   ],
   "source": [
    "# load the NHANES data library\n",
    "from nhanes.load import load_NHANES_data\n",
    "nhanes_data = load_NHANES_data()\n",
    "adult_nhanes_data = nhanes_data.query('AgeInYearsAtScreening > 17')\n",
    "## Need to remove duplicates\n",
    "#nhanes_data=nhanes_data.drop_duplicates(subset =\"ID\",  keep = 'first', inplace = True)\n"
   ]
  },
  {
   "cell_type": "markdown",
   "metadata": {},
   "source": [
    "We have already encountered a number of cases where we wanted to ask questions about the mean of a sample.  \n",
    "In this chapter, we will delve deeper into the various ways that we can compare means.\n",
    "\n",
    "\n",
    "## Testing the value of a single mean {#single-mean}\n",
    "\n",
    "The simplest question we might want to ask of a mean is whether it has a specific value.  Let's say that we want to test whether the mean BMI value in adults from the NHANES dataset is above 25, which is the lower cutoff for being overweight according to the US Centers for Disease Control.  We take a sample of 200 adults in order to ask this question."
   ]
  },
  {
   "cell_type": "code",
   "execution_count": 3,
   "metadata": {},
   "outputs": [
    {
     "data": {
      "image/png": "[encoded data removed]",
      "text/plain": [
       "<Figure size 432x288 with 1 Axes>"
      ]
     },
     "metadata": {
      "needs_background": "light"
     },
     "output_type": "display_data"
    }
   ],
   "source": [
    "adult_nhanes_data_na=adult_nhanes_data.dropna(subset=['BodyMassIndexKgm2']) # Removing NA's\n",
    "adult_nhames_sample=adult_nhanes_data_na.sample(n=200, random_state=1)\n",
    "fig, ax= plt.subplots(1, 1, figsize=(6,4))\n",
    "ax=adult_nhames_sample['BodyMassIndexKgm2'].hist()\n",
    "ax.axvline(25,color='g',linewidth=4)\n",
    "\n",
    "adult_nhames_sample['BMIdiff']=adult_nhames_sample['BodyMassIndexKgm2']>25"
   ]
  },
  {
   "cell_type": "markdown",
   "metadata": {},
   "source": [
    "One simple way to test for this difference is using a test called the *sign test*, \n",
    "which asks whether the proportion of positive differences between the actual value and the hypothesized value is different than what we would expect by chance.  To do this, we take the differences between each data point and the hypothesized mean value and compute their sign.  In our sample, we see that `r I(sprintf('%0.1f',mean(NHANES_sample$BMIdiff)*100))` percent of individuals have a BMI greater than 25.  We can then use a binomial test to ask whether this proportion of positive differences is greater than 0.5, using the `binom_test()` function in Python:"
   ]
  },
  {
   "cell_type": "code",
   "execution_count": 4,
   "metadata": {},
   "outputs": [
    {
     "name": "stdout",
     "output_type": "stream",
     "text": [
      "2.0076963966165487e-10\n"
     ]
    }
   ],
   "source": [
    "# compute sign test for differences between first and second measurement\n",
    "npos = np.sum(adult_nhames_sample['BMIdiff'])\n",
    "bt=stats.binom_test(npos, n=adult_nhames_sample.shape[0], p=0.5, alternative='greater')\n",
    "print(bt)"
   ]
  },
  {
   "cell_type": "markdown",
   "metadata": {},
   "source": [
    "Here we see that the proportion of individuals with positive signs would be *very* surprising under the null hypothesis of $p=0.5$. \n",
    "\n",
    "We can also ask this question using Student's t-test, which you have already encountered earlier in the book.  We will refer to the mean as $\\bar{X}$ and the hypothesized population mean as $\\mu$.  Then, the t test for a single mean is:\n",
    "\n",
    "$$\n",
    "t = \\frac{\\bar{X} - \\mu}{SEM}\n",
    "$$\n",
    "where SEM (as you may remember from the chapter on sampling) is defined as:\n",
    "\n",
    "$$\n",
    "SEM = \\frac{\\hat{\\sigma}}{\\sqrt{n}}\n",
    "$$\n",
    "\n",
    "In essence, the t statistic asks how large the deviation of the sample mean from the hypothesized quantity is with respect to the sampling variability of the mean.\n",
    "\n",
    "We can compute this for the NHANES dataset using the ```t.ttest_1samp()``` function in Python:"
   ]
  },
  {
   "cell_type": "code",
   "execution_count": 5,
   "metadata": {},
   "outputs": [],
   "source": [
    "stats.ttest_1samp(adult_nhames_sample['BodyMassIndexKgm2'],5.0)\n",
    "a=3"
   ]
  },
  {
   "cell_type": "markdown",
   "metadata": {},
   "source": [
    "This shows us that the mean BMI in the dataset  is significantly larger than the cutoff for overweight.\n",
    "\n",
    "## Comparing two means {#comparing-two-means}\n",
    "\n",
    "A more common question that often arises in statistics is whether there is a difference between the means of two different groups.  Let's say that we would like to know whether regular marijuana smokers watch more television.  We can ask this question using the NHANES dataset; let's take a sample of 200 individuals from the dataset and test whether the number of hours of television watching per day is related to regular marijuana use.  The left panel of Figure \\@ref(fig:PotTVViolin) shows these data using a violin plot."
   ]
  },
  {
   "cell_type": "code",
   "execution_count": 6,
   "metadata": {},
   "outputs": [
    {
     "data": {
      "image/png": "[encoded data removed]",
      "text/plain": [
       "<Figure size 432x288 with 1 Axes>"
      ]
     },
     "metadata": {
      "needs_background": "light"
     },
     "output_type": "display_data"
    }
   ],
   "source": [
    "# In the R code it was TVHrsDay\n",
    "\n",
    "adult_nhanes_data=adult_nhanes_data.dropna(subset=['EverUsedMarijuanaOrHashish','SleepHoursWeekdaysOrWorkdays']) # Removing NA's\n",
    "adult_nhames_sample=adult_nhanes_data.sample(n=200, random_state=0)\n",
    "adult_nhames_sample['GenderNum']=adult_nhames_sample['Gender']=='Female'\n",
    "adult_nhames_sample=adult_nhames_sample[['GenderNum','Gender','SleepHoursWeekdaysOrWorkdays','EverUsedMarijuanaOrHashish']]\n",
    "ax = sns.violinplot(x=adult_nhames_sample['Gender'],y=adult_nhames_sample['SleepHoursWeekdaysOrWorkdays'])"
   ]
  },
  {
   "cell_type": "code",
   "execution_count": 7,
   "metadata": {},
   "outputs": [
    {
     "data": {
      "text/plain": [
       "Ttest_indResult(statistic=0.9186235744972856, pvalue=0.3594101890967697)"
      ]
     },
     "execution_count": 7,
     "metadata": {},
     "output_type": "execute_result"
    }
   ],
   "source": [
    "Group1 = adult_nhames_sample.loc[adult_nhames_sample['Gender']=='Female']\n",
    "Group2 = adult_nhames_sample.loc[adult_nhames_sample['Gender']=='Male']\n",
    "\n",
    "#Group1 =adult_nhames_sample.query('GenderNum==True').sample(200, random_state=2)\n",
    "#Group2 =adult_nhames_sample.query('Gender==Male').sample(200, random_state=2)\n",
    "\n",
    "\n",
    "# clean up smoking variables\n",
    "#adult_nhanes_data.loc[adult_nhanes_data['SmokedAtLeast100CigarettesInLife'] == 0, 'DoYouNowSmokeCigarettes'] = 'Not at all'\n",
    "#adult_nhanes_data.loc[:, 'SmokeNow'] = adult_nhanes_data['DoYouNowSmokeCigarettes'] != 'Not at all'\n",
    "\n",
    "# Create average alcohol consumption variable between the two dietary recalls\n",
    "#adult_nhanes_data.loc[:, 'AvgAlcohol'] = adult_nhanes_data[['AlcoholGm_DR1TOT', 'AlcoholGm_DR2TOT']].mean(1)\n",
    "#adult_nhanes_data = adult_nhanes_data.dropna(subset=['AvgAlcohol'])\n",
    "\n",
    "#sample_size_per_group = 150\n",
    "\n",
    "stats.ttest_ind(Group1['SleepHoursWeekdaysOrWorkdays'], Group2['SleepHoursWeekdaysOrWorkdays'])"
   ]
  },
  {
   "cell_type": "markdown",
   "metadata": {},
   "source": [
    "We can also use Student's t test to test for differences between two groups of independent observations (as we saw in an earlier chapter); we will turn later in the chapter to cases where the observations are not independent.  As a reminder, the t-statistic for comparison of two independent groups is computed as:\n",
    "\n",
    "$$\n",
    "t = \\frac{\\bar{X_1} - \\bar{X_2}}{\\sqrt{\\frac{S_1^2}{n_1} + \\frac{S_2^2}{n_2}}}\n",
    "$$\n",
    "\n",
    "where $\\bar{X}_1$ and $\\bar{X}_2$ are the means of the two groups, $S^2_1$ and $S^2_2$ are the variances for each of the groups, and $n_1$ and $n_2$ are the sizes of the two groups.  Under the null hypothesis of no difference between means, this statistic is distributed according to a t distribution with n-2 degrees of freedom (since we have computed two parameter estimates, namely the means of the two groups).  We can compute the independent t-test in Python using the ```ttest_ind()``` function. In this case, we started with the specific hypothesis that smoking marijuana is associated with greater TV watching, so we will use a one-tailed test.  Since the t.test function orders the conditions alphabetically, the \"No\" group comes first, and thus we need to test the alternative hypothesis of whether the first group is less than the second (\"Yes\") group; for this reason, we specify 'less' as our alternative."
   ]
  },
  {
   "cell_type": "code",
   "execution_count": 8,
   "metadata": {},
   "outputs": [],
   "source": [
    "#```{r echo=FALSE,warning=FALSE}\n",
    "# compute t test for tv watching as function of marijuana use\n",
    "#ttresult\n",
    "#```"
   ]
  },
  {
   "cell_type": "markdown",
   "metadata": {},
   "source": [
    "In this case we see that there is a statistically significant difference between groups, in the expected direction - regular pot smokers watch more TV.\n",
    "\n",
    "## The t-test as a linear model {#ttest-linear-model}\n",
    "\n",
    "The t-test is often presented as a specialized tool for comparing means, but it can also be viewed as an application of the general linear model.  In this case, the model would look like this:\n",
    "\n",
    "$$\n",
    "\\hat{TV} = \\hat{\\beta_1}*Marijuana + \\hat{\\beta_0}\n",
    "$$\n",
    "However, smoking is a binary variable, so we treat it as a *dummy variable* like we discussed in the previous chapter, setting it to a value of 1 for smokers and zero for nonsmokers.  In that case, $\\hat{\\beta_1}$ is simply the difference in means between the two groups, and $\\hat{\\beta_0}$ is the mean for the group that was coded as zero.  We can fit this model using the ```lm()``` function, and see that it gives the same t statistic as the t-test above:"
   ]
  },
  {
   "cell_type": "code",
   "execution_count": 9,
   "metadata": {},
   "outputs": [
    {
     "data": {
      "text/html": [
       "<table class=\"simpletable\">\n",
       "<caption>OLS Regression Results</caption>\n",
       "<tr>\n",
       "  <th>Dep. Variable:</th>    <td>SleepHoursWeekdaysOrWorkdays</td> <th>  R-squared:         </th> <td>   0.004</td>\n",
       "</tr>\n",
       "<tr>\n",
       "  <th>Model:</th>                         <td>OLS</td>             <th>  Adj. R-squared:    </th> <td>  -0.001</td>\n",
       "</tr>\n",
       "<tr>\n",
       "  <th>Method:</th>                   <td>Least Squares</td>        <th>  F-statistic:       </th> <td>  0.8439</td>\n",
       "</tr>\n",
       "<tr>\n",
       "  <th>Date:</th>                   <td>Sat, 18 Jul 2020</td>       <th>  Prob (F-statistic):</th>  <td> 0.359</td> \n",
       "</tr>\n",
       "<tr>\n",
       "  <th>Time:</th>                       <td>21:34:57</td>           <th>  Log-Likelihood:    </th> <td> -383.95</td>\n",
       "</tr>\n",
       "<tr>\n",
       "  <th>No. Observations:</th>            <td>   200</td>            <th>  AIC:               </th> <td>   771.9</td>\n",
       "</tr>\n",
       "<tr>\n",
       "  <th>Df Residuals:</th>                <td>   198</td>            <th>  BIC:               </th> <td>   778.5</td>\n",
       "</tr>\n",
       "<tr>\n",
       "  <th>Df Model:</th>                    <td>     1</td>            <th>                     </th>     <td> </td>   \n",
       "</tr>\n",
       "<tr>\n",
       "  <th>Covariance Type:</th>            <td>nonrobust</td>          <th>                     </th>     <td> </td>   \n",
       "</tr>\n",
       "</table>\n",
       "<table class=\"simpletable\">\n",
       "<tr>\n",
       "          <td></td>             <th>coef</th>     <th>std err</th>      <th>t</th>      <th>P>|t|</th>  <th>[0.025</th>    <th>0.975]</th>  \n",
       "</tr>\n",
       "<tr>\n",
       "  <th>Intercept</th>         <td>    7.5294</td> <td>    0.164</td> <td>   45.854</td> <td> 0.000</td> <td>    7.206</td> <td>    7.853</td>\n",
       "</tr>\n",
       "<tr>\n",
       "  <th>GenderNum[T.True]</th> <td>    0.2155</td> <td>    0.235</td> <td>    0.919</td> <td> 0.359</td> <td>   -0.247</td> <td>    0.678</td>\n",
       "</tr>\n",
       "</table>\n",
       "<table class=\"simpletable\">\n",
       "<tr>\n",
       "  <th>Omnibus:</th>       <td> 9.656</td> <th>  Durbin-Watson:     </th> <td>   2.408</td>\n",
       "</tr>\n",
       "<tr>\n",
       "  <th>Prob(Omnibus):</th> <td> 0.008</td> <th>  Jarque-Bera (JB):  </th> <td>  17.167</td>\n",
       "</tr>\n",
       "<tr>\n",
       "  <th>Skew:</th>          <td>-0.194</td> <th>  Prob(JB):          </th> <td>0.000187</td>\n",
       "</tr>\n",
       "<tr>\n",
       "  <th>Kurtosis:</th>      <td> 4.382</td> <th>  Cond. No.          </th> <td>    2.60</td>\n",
       "</tr>\n",
       "</table><br/><br/>Warnings:<br/>[1] Standard Errors assume that the covariance matrix of the errors is correctly specified."
      ],
      "text/plain": [
       "<class 'statsmodels.iolib.summary.Summary'>\n",
       "\"\"\"\n",
       "                                 OLS Regression Results                                 \n",
       "========================================================================================\n",
       "Dep. Variable:     SleepHoursWeekdaysOrWorkdays   R-squared:                       0.004\n",
       "Model:                                      OLS   Adj. R-squared:                 -0.001\n",
       "Method:                           Least Squares   F-statistic:                    0.8439\n",
       "Date:                          Sat, 18 Jul 2020   Prob (F-statistic):              0.359\n",
       "Time:                                  21:34:57   Log-Likelihood:                -383.95\n",
       "No. Observations:                           200   AIC:                             771.9\n",
       "Df Residuals:                               198   BIC:                             778.5\n",
       "Df Model:                                     1                                         \n",
       "Covariance Type:                      nonrobust                                         \n",
       "=====================================================================================\n",
       "                        coef    std err          t      P>|t|      [0.025      0.975]\n",
       "-------------------------------------------------------------------------------------\n",
       "Intercept             7.5294      0.164     45.854      0.000       7.206       7.853\n",
       "GenderNum[T.True]     0.2155      0.235      0.919      0.359      -0.247       0.678\n",
       "==============================================================================\n",
       "Omnibus:                        9.656   Durbin-Watson:                   2.408\n",
       "Prob(Omnibus):                  0.008   Jarque-Bera (JB):               17.167\n",
       "Skew:                          -0.194   Prob(JB):                     0.000187\n",
       "Kurtosis:                       4.382   Cond. No.                         2.60\n",
       "==============================================================================\n",
       "\n",
       "Warnings:\n",
       "[1] Standard Errors assume that the covariance matrix of the errors is correctly specified.\n",
       "\"\"\""
      ]
     },
     "execution_count": 9,
     "metadata": {},
     "output_type": "execute_result"
    }
   ],
   "source": [
    "from statsmodels.formula.api import ols\n",
    "ols_model = ols(formula='SleepHoursWeekdaysOrWorkdays~ GenderNum + 1', data=adult_nhames_sample)\n",
    "ols_result = ols_model.fit()\n",
    "ols_result.summary()"
   ]
  },
  {
   "cell_type": "markdown",
   "metadata": {},
   "source": [
    "We can also view the linear model results graphically (see the right panel of Figure \\@ref(fig:PotTVViolin)).  In this case, the predicted value for nonsmokers is $\\hat{\\beta_0}$ (`r I(lm_summary$coefficients[1,1])`) and the predicted value for smokers is $\\hat{\\beta_0} +\\hat{\\beta_1}$ (`r I(lm_summary$coefficients[1,1] + lm_summary$coefficients[2,1])`).  \n",
    "\n",
    "To compute the standard errors for this analysis, we can use exactly the same equations that we used for linear regression -- since this really is just another example of linear regression.  In fact, if you compare the p-value from the t-test above with the p-value in the linear regression analysis for the marijuana use variable, you will see that the one from the linear regression analysis is exactly twice the one from the t-test, because the linear regression analysis is performing a two-tailed test.  \n",
    "\n",
    "### Effect sizes for comparing two means\n",
    "\n",
    "The most commonly used effect size for a comparison between two means is Cohen's d, which (as you may remember from Chapter \\@ref(ci-effect-size-power)) is an expression of the effect in terms of standard error units.  For the t-test estimated using the general linear model outlined above (i.e. with a single dummy-coded variable), this is expressed as:\n",
    "\n",
    "$$\n",
    "d = \\frac{\\hat{beta_1}}{SE_{residual}}\n",
    "$$\n",
    "We can obtain these values from the analysis output above, giving us a d = `r I(lm_summary$coefficients[2,1]/lm_summary$sigma)`, which we would generally interpret as a medium sized effect.\n",
    "\n",
    "We can also compute $R^2$ for this analysis, which tells us how much variance in TV watching is accounted for.  This value (which is reported in the summary of the lm() analysis) is `r I(lm_summary$r.squared)`, which tells us that while the effect may be statistically significant, it accounts for relatively little of the variance in TV watching.\n",
    "\n",
    "## Bayes factor for mean differences\n",
    "\n",
    "As we discussed in the chapter on Bayesian analysis, Bayes factors provide a way to better quantify evidence in favor or against the null hypothesis of no difference.  In this case, we want to specifically test against the null hypothesis that the difference is greater than zero - because the difference is computed by the function between the first group ('No') and the second group ('Yes'). Thus, we specify a \"null interval\" going from zero to infinity, which means that the alternative is less than zero."
   ]
  },
  {
   "cell_type": "code",
   "execution_count": 10,
   "metadata": {},
   "outputs": [],
   "source": [
    "import rpy2.robjects as robjects\n",
    "from rpy2.robjects import r, pandas2ri\n",
    "from rpy2.robjects.packages import importr\n",
    "pandas2ri.activate()\n",
    "#import rpy2.robjects.packages as rpackages"
   ]
  },
  {
   "cell_type": "code",
   "execution_count": 11,
   "metadata": {},
   "outputs": [],
   "source": [
    "# import the BayesFactor package\n",
    "BayesFactor = importr('BayesFactor')"
   ]
  },
  {
   "cell_type": "code",
   "execution_count": 12,
   "metadata": {},
   "outputs": [],
   "source": [
    "# import the data frames into the R workspace\n",
    "robjects.globalenv[\"Group1\"] = Group1\n",
    "robjects.globalenv[\"Group2\"] = Group2"
   ]
  },
  {
   "cell_type": "code",
   "execution_count": 13,
   "metadata": {},
   "outputs": [
    {
     "name": "stdout",
     "output_type": "stream",
     "text": [
      "\n",
      "\tWelch Two Sample t-test\n",
      "\n",
      "data:  Group1$SleepHoursWeekdaysOrWorkdays and Group2$SleepHoursWeekdaysOrWorkdays\n",
      "t = 0.91566, df = 190.36, p-value = 0.1805\n",
      "alternative hypothesis: true difference in means is greater than 0\n",
      "95 percent confidence interval:\n",
      " -0.1734962        Inf\n",
      "sample estimates:\n",
      "mean of x mean of y \n",
      " 7.744898  7.529412 \n",
      "\n",
      "Bayes factor analysis\n",
      "--------------\n",
      "[1] Alt., r=0.707 0<d<Inf    : 0.08564647 ±0.07%\n",
      "[2] Alt., r=0.707 !(0<d<Inf) : 0.3710879  ±0%\n",
      "\n",
      "Against denominator:\n",
      "  Null, mu1-mu2 = 0 \n",
      "---\n",
      "Bayes factor type: BFindepSample, JZS\n",
      "\n"
     ]
    },
    {
     "data": {
      "text/plain": [
       "<rpy2.rinterface_lib.sexp.NULLType object at 0x7fcd10428248> [RTYPES.NILSXP]"
      ]
     },
     "execution_count": 13,
     "metadata": {},
     "output_type": "execute_result"
    }
   ],
   "source": [
    "# perform the standard t-test\n",
    "ttest_output = r('print(t.test(Group1$SleepHoursWeekdaysOrWorkdays, Group2$SleepHoursWeekdaysOrWorkdays, alternative=\"greater\"))')\n",
    "\n",
    "# compute the Bayes factor\n",
    "r('bf = ttestBF(y=Group1$SleepHoursWeekdaysOrWorkdays, x=Group2$SleepHoursWeekdaysOrWorkdays, nullInterval = c(0, Inf))')\n",
    "r('summary(bf)')\n"
   ]
  },
  {
   "cell_type": "markdown",
   "metadata": {},
   "source": [
    "This shows us that the evidence against the null hypothesis is moderately strong.\n",
    "\n",
    "## Comparing paired observations {#paired-ttests}"
   ]
  },
  {
   "cell_type": "code",
   "execution_count": 14,
   "metadata": {},
   "outputs": [
    {
     "name": "stderr",
     "output_type": "stream",
     "text": [
      "/Users/johnbutler/anaconda3/lib/python3.7/site-packages/pandas/core/indexing.py:845: SettingWithCopyWarning: \n",
      "A value is trying to be set on a copy of a slice from a DataFrame.\n",
      "Try using .loc[row_indexer,col_indexer] = value instead\n",
      "\n",
      "See the caveats in the documentation: https://pandas.pydata.org/pandas-docs/stable/user_guide/indexing.html#returning-a-view-versus-a-copy\n",
      "  self.obj[key] = _infer_fill_value(value)\n",
      "/Users/johnbutler/anaconda3/lib/python3.7/site-packages/pandas/core/indexing.py:850: SettingWithCopyWarning: \n",
      "A value is trying to be set on a copy of a slice from a DataFrame\n",
      "\n",
      "See the caveats in the documentation: https://pandas.pydata.org/pandas-docs/stable/user_guide/indexing.html#returning-a-view-versus-a-copy\n",
      "  self._setitem_with_indexer(new_indexer, value)\n",
      "/Users/johnbutler/anaconda3/lib/python3.7/site-packages/pandas/core/indexing.py:671: SettingWithCopyWarning: \n",
      "A value is trying to be set on a copy of a slice from a DataFrame\n",
      "\n",
      "See the caveats in the documentation: https://pandas.pydata.org/pandas-docs/stable/user_guide/indexing.html#returning-a-view-versus-a-copy\n",
      "  self._setitem_with_indexer(indexer, value)\n"
     ]
    },
    {
     "data": {
      "text/html": [
       "<div>\n",
       "<style scoped>\n",
       "    .dataframe tbody tr th:only-of-type {\n",
       "        vertical-align: middle;\n",
       "    }\n",
       "\n",
       "    .dataframe tbody tr th {\n",
       "        vertical-align: top;\n",
       "    }\n",
       "\n",
       "    .dataframe thead th {\n",
       "        text-align: right;\n",
       "    }\n",
       "</style>\n",
       "<table border=\"1\" class=\"dataframe\">\n",
       "  <thead>\n",
       "    <tr style=\"text-align: right;\">\n",
       "      <th></th>\n",
       "      <th>ID</th>\n",
       "      <th>Order</th>\n",
       "      <th>Pressure</th>\n",
       "    </tr>\n",
       "  </thead>\n",
       "  <tbody>\n",
       "    <tr>\n",
       "      <th>0</th>\n",
       "      <td>0.0</td>\n",
       "      <td>SystolicBloodPres1StRdgMmHg</td>\n",
       "      <td>142.0</td>\n",
       "    </tr>\n",
       "    <tr>\n",
       "      <th>1</th>\n",
       "      <td>1.0</td>\n",
       "      <td>SystolicBloodPres1StRdgMmHg</td>\n",
       "      <td>118.0</td>\n",
       "    </tr>\n",
       "    <tr>\n",
       "      <th>2</th>\n",
       "      <td>2.0</td>\n",
       "      <td>SystolicBloodPres1StRdgMmHg</td>\n",
       "      <td>102.0</td>\n",
       "    </tr>\n",
       "    <tr>\n",
       "      <th>3</th>\n",
       "      <td>3.0</td>\n",
       "      <td>SystolicBloodPres1StRdgMmHg</td>\n",
       "      <td>110.0</td>\n",
       "    </tr>\n",
       "    <tr>\n",
       "      <th>4</th>\n",
       "      <td>4.0</td>\n",
       "      <td>SystolicBloodPres1StRdgMmHg</td>\n",
       "      <td>116.0</td>\n",
       "    </tr>\n",
       "  </tbody>\n",
       "</table>\n",
       "</div>"
      ],
      "text/plain": [
       "    ID                        Order  Pressure\n",
       "0  0.0  SystolicBloodPres1StRdgMmHg     142.0\n",
       "1  1.0  SystolicBloodPres1StRdgMmHg     118.0\n",
       "2  2.0  SystolicBloodPres1StRdgMmHg     102.0\n",
       "3  3.0  SystolicBloodPres1StRdgMmHg     110.0\n",
       "4  4.0  SystolicBloodPres1StRdgMmHg     116.0"
      ]
     },
     "execution_count": 14,
     "metadata": {},
     "output_type": "execute_result"
    }
   ],
   "source": [
    "adult_nhanes_data_na=adult_nhanes_data.dropna(subset=['SystolicBloodPres1StRdgMmHg','SystolicBloodPres2NdRdgMmHg']) # Removing NA's\n",
    "adult_nhames_sample=adult_nhanes_data_na.sample(n=200, random_state=50)\n",
    "BloodPressure=adult_nhames_sample[['SystolicBloodPres1StRdgMmHg','SystolicBloodPres2NdRdgMmHg']]\n",
    "BloodPressure.loc[:,'ID']=np.arange(0,200)\n",
    "BP=BloodPressure.melt(id_vars=['ID'],value_vars = ['SystolicBloodPres1StRdgMmHg','SystolicBloodPres2NdRdgMmHg'],var_name='Order',value_name='Pressure')\n",
    "BP.head()"
   ]
  },
  {
   "cell_type": "code",
   "execution_count": 15,
   "metadata": {},
   "outputs": [
    {
     "data": {
      "image/png": "[encoded data removed]",
      "text/plain": [
       "<Figure size 432x288 with 1 Axes>"
      ]
     },
     "metadata": {
      "needs_background": "light"
     },
     "output_type": "display_data"
    }
   ],
   "source": [
    "ax = sns.violinplot(x=BP['Order'],y=BP['Pressure'])\n",
    "ax = sns.swarmplot(x=\"Order\", y=\"Pressure\", data=BP, color=\".25\")"
   ]
  },
  {
   "cell_type": "code",
   "execution_count": 16,
   "metadata": {},
   "outputs": [
    {
     "name": "stderr",
     "output_type": "stream",
     "text": [
      "/Users/johnbutler/anaconda3/lib/python3.7/site-packages/pandas/core/indexing.py:845: SettingWithCopyWarning: \n",
      "A value is trying to be set on a copy of a slice from a DataFrame.\n",
      "Try using .loc[row_indexer,col_indexer] = value instead\n",
      "\n",
      "See the caveats in the documentation: https://pandas.pydata.org/pandas-docs/stable/user_guide/indexing.html#returning-a-view-versus-a-copy\n",
      "  self.obj[key] = _infer_fill_value(value)\n",
      "/Users/johnbutler/anaconda3/lib/python3.7/site-packages/pandas/core/indexing.py:850: SettingWithCopyWarning: \n",
      "A value is trying to be set on a copy of a slice from a DataFrame\n",
      "\n",
      "See the caveats in the documentation: https://pandas.pydata.org/pandas-docs/stable/user_guide/indexing.html#returning-a-view-versus-a-copy\n",
      "  self._setitem_with_indexer(new_indexer, value)\n",
      "/Users/johnbutler/anaconda3/lib/python3.7/site-packages/pandas/core/indexing.py:671: SettingWithCopyWarning: \n",
      "A value is trying to be set on a copy of a slice from a DataFrame\n",
      "\n",
      "See the caveats in the documentation: https://pandas.pydata.org/pandas-docs/stable/user_guide/indexing.html#returning-a-view-versus-a-copy\n",
      "  self._setitem_with_indexer(indexer, value)\n",
      "/Users/johnbutler/anaconda3/lib/python3.7/site-packages/pandas/core/indexing.py:966: SettingWithCopyWarning: \n",
      "A value is trying to be set on a copy of a slice from a DataFrame.\n",
      "Try using .loc[row_indexer,col_indexer] = value instead\n",
      "\n",
      "See the caveats in the documentation: https://pandas.pydata.org/pandas-docs/stable/user_guide/indexing.html#returning-a-view-versus-a-copy\n",
      "  self.obj[item] = s\n"
     ]
    }
   ],
   "source": [
    "BloodPressure.loc[:,'BPSdiff']=BloodPressure.loc[:,'SystolicBloodPres1StRdgMmHg']-BloodPressure.loc[:,'SystolicBloodPres2NdRdgMmHg']\n",
    "#BloodPressure['meanBPS']=(BloodPressure['SystolicBloodPres1StRdgMmHg']+BloodPressure['SystolicBloodPres2NdRdgMmHg'])/2\n",
    "BloodPressure.loc[:,'meanBPS']=adult_nhanes_data[['SystolicBloodPres1StRdgMmHg', 'SystolicBloodPres2NdRdgMmHg']].mean(1)\n",
    "BloodPressure.loc[:,'diffPos']=BloodPressure.loc[:,'BPSdiff']>0"
   ]
  },
  {
   "cell_type": "markdown",
   "metadata": {},
   "source": [
    "In experimental research, we often use *within-subjects* designs, in which we compare the same person on multiple measurements.  The measurement that come from this kind of design are often referred to as *repeated measures*. For example, in the NHANES dataset blood pressure was measured three times. Let's say that we are interested in testing whether there is a difference in mean blood pressure between the first and second measurement (Figure  \\@ref(fig:BPfig)). We see that there does not seem to be much of a difference in mean blood pressure between time points (about one point). First let's test for a difference using an independent samples t-test, which ignores the fact that pairs of data points come from the the same individuals.   "
   ]
  },
  {
   "cell_type": "code",
   "execution_count": 17,
   "metadata": {},
   "outputs": [
    {
     "data": {
      "text/plain": [
       "Ttest_indResult(statistic=-0.047342980126205136, pvalue=0.9622636198648807)"
      ]
     },
     "execution_count": 17,
     "metadata": {},
     "output_type": "execute_result"
    }
   ],
   "source": [
    "stats.ttest_ind(BloodPressure['SystolicBloodPres1StRdgMmHg'], BloodPressure['SystolicBloodPres2NdRdgMmHg'])"
   ]
  },
  {
   "cell_type": "markdown",
   "metadata": {},
   "source": [
    "This analysis shows no significant difference. However, this analysis is inappropriate since it assumes that the two samples are independent, when in fact they are not, since the data come from the same individuals.  We can plot the data with a line for each individual to show this (see Figure \\@ref(fig:BPLinePlot)).\n",
    "\n",
    "In this analysis, what we really care about is whether the blood pressure for each person changed in a systematic way between the two measurements, so another way to represent the data is to compute the difference between the two timepoints for each individual, and then analyze these difference scores rather than analyzing the individual measurements. In Figure \\@ref(fig:BPDiffHist), we show a histogram of these difference scores, with a blue line denoting the mean difference."
   ]
  },
  {
   "cell_type": "code",
   "execution_count": 18,
   "metadata": {},
   "outputs": [
    {
     "data": {
      "image/png": "[encoded data removed]",
      "text/plain": [
       "<Figure size 432x288 with 1 Axes>"
      ]
     },
     "metadata": {
      "needs_background": "light"
     },
     "output_type": "display_data"
    }
   ],
   "source": [
    "ax=BloodPressure['BPSdiff'].hist(bins=20)\n",
    "ax.axvline(BloodPressure['BPSdiff'].mean(),color='b',linewidth=4)\n",
    "plt.show()"
   ]
  },
  {
   "cell_type": "markdown",
   "metadata": {},
   "source": [
    "### Sign test\n",
    "\n",
    "One simple way to test for differences is using the *sign test*. To do this, we take the differences and compute their sign, and then we use a binomial test to ask whether the proportion of positive signs differs from 0.5."
   ]
  },
  {
   "cell_type": "code",
   "execution_count": 19,
   "metadata": {},
   "outputs": [
    {
     "name": "stdout",
     "output_type": "stream",
     "text": [
      "0.9859372963835369\n"
     ]
    }
   ],
   "source": [
    "npos = np.sum(BloodPressure['diffPos'])\n",
    "bt=stats.binom_test(npos, n=BloodPressure.shape[0], p=0.5, alternative='greater')\n",
    "print(bt)"
   ]
  },
  {
   "cell_type": "markdown",
   "metadata": {},
   "source": [
    "Here we see that the proportion of individuals with positive signs (`r I(bt$estimate)`) is not large enough to be surprising under the null hypothesis of $p=0.5$. However, one problem with the sign test is that it is throwing away information about the magnitude of the differences, and thus might be missing something.\n",
    "\n",
    "### Paired t-test\n",
    "A more common strategy is to use a *paired t-test*. We can compute this using the ```ttest_rel()``` function in Python.  "
   ]
  },
  {
   "cell_type": "code",
   "execution_count": 20,
   "metadata": {},
   "outputs": [
    {
     "data": {
      "text/plain": [
       "Ttest_relResult(statistic=-0.2237755363963667, pvalue=0.8231615292836318)"
      ]
     },
     "execution_count": 20,
     "metadata": {},
     "output_type": "execute_result"
    }
   ],
   "source": [
    "stats.ttest_rel(BloodPressure['SystolicBloodPres1StRdgMmHg'], BloodPressure['SystolicBloodPres2NdRdgMmHg'])"
   ]
  },
  {
   "cell_type": "markdown",
   "metadata": {},
   "source": [
    "This is equivalent to a one-sample t-test ```ttest_1samp()``` for whether the mean difference between the measurements is zero.  "
   ]
  },
  {
   "cell_type": "code",
   "execution_count": 21,
   "metadata": {},
   "outputs": [
    {
     "data": {
      "text/plain": [
       "Ttest_1sampResult(statistic=-0.2237755363963667, pvalue=0.8231615292836318)"
      ]
     },
     "execution_count": 21,
     "metadata": {},
     "output_type": "execute_result"
    }
   ],
   "source": [
    "stats.ttest_1samp(BloodPressure['BPSdiff'],popmean=0)"
   ]
  },
  {
   "cell_type": "markdown",
   "metadata": {},
   "source": [
    "With this analyses we see that there is in fact a significant difference between the two measurements. Let's compute the Bayes factor to see how much evidence is provided by the result:"
   ]
  },
  {
   "cell_type": "code",
   "execution_count": 22,
   "metadata": {},
   "outputs": [
    {
     "name": "stdout",
     "output_type": "stream",
     "text": [
      "Bayes factor analysis\n",
      "--------------\n",
      "[1] Alt., r=0.707 0<d<Inf    : 0.06676647 ±0%\n",
      "[2] Alt., r=0.707 !(0<d<Inf) : 0.09520905 ±0%\n",
      "\n",
      "Against denominator:\n",
      "  Null, mu = 0 \n",
      "---\n",
      "Bayes factor type: BFoneSample, JZS\n",
      "\n"
     ]
    },
    {
     "data": {
      "text/plain": [
       "<rpy2.rinterface_lib.sexp.NULLType object at 0x7fcd10428248> [RTYPES.NILSXP]"
      ]
     },
     "execution_count": 22,
     "metadata": {},
     "output_type": "execute_result"
    }
   ],
   "source": [
    "robjects.globalenv[\"BloodPressure\"] = BloodPressure\n",
    "# compute the Bayes factor\n",
    "r('bf = ttestBF(x=BloodPressure$SystolicBloodPres1StRdgMmHg, y=BloodPressure$SystolicBloodPres2NdRdgMmHg, paired = TRUE, nullInterval = c(0, Inf))')\n",
    "r('summary(bf)')"
   ]
  },
  {
   "cell_type": "markdown",
   "metadata": {},
   "source": [
    "This shows us that although the effect was significant in a paired t-test, it actually provides very little evidence in favor of the alternative hypothesis. \n",
    "\n",
    "The paired t-test can also be defined in terms of a linear model; see the Appendix for more details on this.\n",
    "\n",
    "## Comparing more than two means\n",
    "\n",
    "Often we want to compare more than two means to determine whether any of them differ from one another.  Let's say that we are analyzing data from a clinical trial for the treatment of high blood pressure.  In the study, volunteers are randomized to one of three conditions: Drug 1, Drug 2 or placebo.  Let's generate some data and plot them (see Figure \\@ref(fig:DrugTrial))"
   ]
  },
  {
   "cell_type": "code",
   "execution_count": 23,
   "metadata": {},
   "outputs": [],
   "source": [
    "nPerGroup= 36\n"
   ]
  },
  {
   "cell_type": "code",
   "execution_count": 24,
   "metadata": {},
   "outputs": [
    {
     "data": {
      "image/png": "[encoded data removed]",
      "text/plain": [
       "<Figure size 432x288 with 1 Axes>"
      ]
     },
     "metadata": {
      "needs_background": "light"
     },
     "output_type": "display_data"
    }
   ],
   "source": [
    "np.random.seed(0)\n",
    "nPerGroup= 36\n",
    "noiseSD = 10\n",
    "meanSysBP = 140\n",
    "effectSize = 0.8\n",
    "\n",
    "group=['placebo']*nPerGroup+['drug1']*nPerGroup+['drug2']*nPerGroup\n",
    "sysBP1=np.random.normal(meanSysBP, noiseSD, nPerGroup)\n",
    "sysBP2=(np.random.normal(meanSysBP-noiseSD*effectSize, noiseSD, nPerGroup))\n",
    "sysBP3=(np.random.normal(meanSysBP, noiseSD, nPerGroup))\n",
    "sysBP=[[sysBP1],[sysBP2],[sysBP3]]\n",
    "sysBP=np.concatenate((sysBP1,sysBP2,sysBP3), axis=0)\n",
    "df=pd.DataFrame({'group': group,'sysBP':sysBP})\n",
    "ax = sns.boxplot(x=\"group\", y=\"sysBP\", data=df)"
   ]
  },
  {
   "cell_type": "markdown",
   "metadata": {},
   "source": [
    "### Analysis of variance {#ANOVA}\n",
    "\n",
    "We would first like to test the null hypothesis that the means of all of the groups are equal -- that is, neither of the treatments had any effect. We can do this using a method called *analysis of variance* (ANOVA). This is one of the most commonly used methods in psychological statistics, and we will only scratch the surface here.  The basic idea behind ANOVA is one that we already discussed in the chapter on the general linear model, and in fact ANOVA is just a name for a specific implementation of such a model.\n",
    "\n",
    "Remember from the last chapter that we can partition the total variance in the data ($SS_{total}$) into the variance that is explained by the model ($SS_{model}$) and the variance that is not ($SS_{error}$).  We can then compute a *mean square* for each of these by dividing them by their degrees of freedom; for the error this is $N - p$ (where $p$ is the number of means that we have computed), and for the model this is $p - 1$:\n",
    "\n",
    "$$\n",
    "MS_{model} =\\frac{SS_{model}}{df_{model}}= \\frac{SS_{model}}{p-1}\n",
    "$$\n",
    "\n",
    "$$\n",
    "MS_{error} = \\frac{SS_{error}}{df_{error}} = \\frac{SS_{error}}{N - p}\n",
    "$$\n",
    "\n",
    "With ANOVA, we want to test whether the variance accounted for by the model is greater than what we would expect by chance, under the null hypothesis of no differences between means.  Whereas for the t distribution the expected value is zero under the null hypothesis, that's not the case here, since sums of squares are always positive numbers.  Fortunately, there is another standard distribution that describes how ratios of sums of squares are distributed under the null hypothesis: The *F* distribution (see figure \\@ref(fig:FDist)). This distribution has two degrees of freedom, which correspond to the degrees of freedom for the numerator (which in this case is the model), and the denominator (which in this case is the error)."
   ]
  },
  {
   "cell_type": "code",
   "execution_count": 26,
   "metadata": {},
   "outputs": [
    {
     "data": {
      "image/png": "[encoded data removed]",
      "text/plain": [
       "<Figure size 432x288 with 1 Axes>"
      ]
     },
     "metadata": {
      "needs_background": "light"
     },
     "output_type": "display_data"
    }
   ],
   "source": [
    "from scipy.stats import f\n",
    "x=np.arange(0.1,10,0.1)\n",
    "ax=sns.lineplot(x=x,y=f.pdf(x, 1, 1))\n",
    "ax=sns.lineplot(x=x,y=f.pdf(x, 50, 1))\n",
    "ax=sns.lineplot(x=x,y=f.pdf(x, 50, 10))\n",
    "ax.set(xlabel='F Values', ylabel='Density')\n",
    "plt.show()"
   ]
  },
  {
   "cell_type": "markdown",
   "metadata": {},
   "source": [
    "To create an ANOVA model, we extend the idea of *dummy coding* that you encountered in the last chapter. Remember that for the t-test comparing two means, we created a single dummy variable that took the value of 1 for one of the conditions and zero for the others.  Here we extend that idea by creating two dummy variables, one that codes for the Drug 1 condition and the other that codes for the Drug 2 condition.  Just as in the t-test, we will have one condition (in this case, placebo) that doesn't have a dummy variable, and thus represents the baseline against which the others are compared; its mean defines the intercept of the model. Let's create the dummy coding for drugs 1 and 2."
   ]
  },
  {
   "cell_type": "code",
   "execution_count": 28,
   "metadata": {},
   "outputs": [],
   "source": [
    "#```{r echo=FALSE}\n",
    "# create dummy variables for drug1 and drug2\n",
    "#df <-\n",
    "#  df %>%\n",
    "#  mutate(\n",
    "#    d1 = as.integer(group == \"drug1\"), # 1s for drug1, 0s for all other drugs\n",
    "#    d2 = as.integer(group == \"drug2\")  # 1s for drug2, 0s for all other drugs\n",
    "#  )\n",
    "#```"
   ]
  },
  {
   "cell_type": "markdown",
   "metadata": {},
   "source": [
    "Now we can fit a model using the same approach that we used in the previous chapter:"
   ]
  },
  {
   "cell_type": "code",
   "execution_count": 29,
   "metadata": {},
   "outputs": [
    {
     "data": {
      "text/html": [
       "<div>\n",
       "<style scoped>\n",
       "    .dataframe tbody tr th:only-of-type {\n",
       "        vertical-align: middle;\n",
       "    }\n",
       "\n",
       "    .dataframe tbody tr th {\n",
       "        vertical-align: top;\n",
       "    }\n",
       "\n",
       "    .dataframe thead th {\n",
       "        text-align: right;\n",
       "    }\n",
       "</style>\n",
       "<table border=\"1\" class=\"dataframe\">\n",
       "  <thead>\n",
       "    <tr style=\"text-align: right;\">\n",
       "      <th></th>\n",
       "      <th>df</th>\n",
       "      <th>sum_sq</th>\n",
       "      <th>mean_sq</th>\n",
       "      <th>F</th>\n",
       "      <th>PR(&gt;F)</th>\n",
       "    </tr>\n",
       "  </thead>\n",
       "  <tbody>\n",
       "    <tr>\n",
       "      <th>group</th>\n",
       "      <td>2.0</td>\n",
       "      <td>4365.502544</td>\n",
       "      <td>2182.751272</td>\n",
       "      <td>21.215607</td>\n",
       "      <td>1.825965e-08</td>\n",
       "    </tr>\n",
       "    <tr>\n",
       "      <th>Residual</th>\n",
       "      <td>105.0</td>\n",
       "      <td>10802.843544</td>\n",
       "      <td>102.884224</td>\n",
       "      <td>NaN</td>\n",
       "      <td>NaN</td>\n",
       "    </tr>\n",
       "  </tbody>\n",
       "</table>\n",
       "</div>"
      ],
      "text/plain": [
       "             df        sum_sq      mean_sq          F        PR(>F)\n",
       "group       2.0   4365.502544  2182.751272  21.215607  1.825965e-08\n",
       "Residual  105.0  10802.843544   102.884224        NaN           NaN"
      ]
     },
     "execution_count": 29,
     "metadata": {},
     "output_type": "execute_result"
    }
   ],
   "source": [
    "\n",
    "import statsmodels.api as sm\n",
    "ols_model = ols(formula='sysBP~ group', data=df)\n",
    "ols_result = ols_model.fit()\n",
    "aov_table = sm.stats.anova_lm(ols_result)\n",
    "aov_table "
   ]
  },
  {
   "cell_type": "code",
   "execution_count": 30,
   "metadata": {},
   "outputs": [
    {
     "data": {
      "text/html": [
       "<table class=\"simpletable\">\n",
       "<caption>OLS Regression Results</caption>\n",
       "<tr>\n",
       "  <th>Dep. Variable:</th>          <td>sysBP</td>      <th>  R-squared:         </th> <td>   0.288</td>\n",
       "</tr>\n",
       "<tr>\n",
       "  <th>Model:</th>                   <td>OLS</td>       <th>  Adj. R-squared:    </th> <td>   0.274</td>\n",
       "</tr>\n",
       "<tr>\n",
       "  <th>Method:</th>             <td>Least Squares</td>  <th>  F-statistic:       </th> <td>   21.22</td>\n",
       "</tr>\n",
       "<tr>\n",
       "  <th>Date:</th>             <td>Sat, 18 Jul 2020</td> <th>  Prob (F-statistic):</th> <td>1.83e-08</td>\n",
       "</tr>\n",
       "<tr>\n",
       "  <th>Time:</th>                 <td>21:35:41</td>     <th>  Log-Likelihood:    </th> <td> -401.94</td>\n",
       "</tr>\n",
       "<tr>\n",
       "  <th>No. Observations:</th>      <td>   108</td>      <th>  AIC:               </th> <td>   809.9</td>\n",
       "</tr>\n",
       "<tr>\n",
       "  <th>Df Residuals:</th>          <td>   105</td>      <th>  BIC:               </th> <td>   817.9</td>\n",
       "</tr>\n",
       "<tr>\n",
       "  <th>Df Model:</th>              <td>     2</td>      <th>                     </th>     <td> </td>   \n",
       "</tr>\n",
       "<tr>\n",
       "  <th>Covariance Type:</th>      <td>nonrobust</td>    <th>                     </th>     <td> </td>   \n",
       "</tr>\n",
       "</table>\n",
       "<table class=\"simpletable\">\n",
       "<tr>\n",
       "          <td></td>            <th>coef</th>     <th>std err</th>      <th>t</th>      <th>P>|t|</th>  <th>[0.025</th>    <th>0.975]</th>  \n",
       "</tr>\n",
       "<tr>\n",
       "  <th>Intercept</th>        <td>  128.9114</td> <td>    1.691</td> <td>   76.255</td> <td> 0.000</td> <td>  125.559</td> <td>  132.263</td>\n",
       "</tr>\n",
       "<tr>\n",
       "  <th>group[T.drug2]</th>   <td>   12.8067</td> <td>    2.391</td> <td>    5.357</td> <td> 0.000</td> <td>    8.066</td> <td>   17.547</td>\n",
       "</tr>\n",
       "<tr>\n",
       "  <th>group[T.placebo]</th> <td>   14.0772</td> <td>    2.391</td> <td>    5.888</td> <td> 0.000</td> <td>    9.337</td> <td>   18.818</td>\n",
       "</tr>\n",
       "</table>\n",
       "<table class=\"simpletable\">\n",
       "<tr>\n",
       "  <th>Omnibus:</th>       <td> 0.257</td> <th>  Durbin-Watson:     </th> <td>   2.075</td>\n",
       "</tr>\n",
       "<tr>\n",
       "  <th>Prob(Omnibus):</th> <td> 0.879</td> <th>  Jarque-Bera (JB):  </th> <td>   0.431</td>\n",
       "</tr>\n",
       "<tr>\n",
       "  <th>Skew:</th>          <td>-0.056</td> <th>  Prob(JB):          </th> <td>   0.806</td>\n",
       "</tr>\n",
       "<tr>\n",
       "  <th>Kurtosis:</th>      <td> 2.712</td> <th>  Cond. No.          </th> <td>    3.73</td>\n",
       "</tr>\n",
       "</table><br/><br/>Warnings:<br/>[1] Standard Errors assume that the covariance matrix of the errors is correctly specified."
      ],
      "text/plain": [
       "<class 'statsmodels.iolib.summary.Summary'>\n",
       "\"\"\"\n",
       "                            OLS Regression Results                            \n",
       "==============================================================================\n",
       "Dep. Variable:                  sysBP   R-squared:                       0.288\n",
       "Model:                            OLS   Adj. R-squared:                  0.274\n",
       "Method:                 Least Squares   F-statistic:                     21.22\n",
       "Date:                Sat, 18 Jul 2020   Prob (F-statistic):           1.83e-08\n",
       "Time:                        21:35:41   Log-Likelihood:                -401.94\n",
       "No. Observations:                 108   AIC:                             809.9\n",
       "Df Residuals:                     105   BIC:                             817.9\n",
       "Df Model:                           2                                         \n",
       "Covariance Type:            nonrobust                                         \n",
       "====================================================================================\n",
       "                       coef    std err          t      P>|t|      [0.025      0.975]\n",
       "------------------------------------------------------------------------------------\n",
       "Intercept          128.9114      1.691     76.255      0.000     125.559     132.263\n",
       "group[T.drug2]      12.8067      2.391      5.357      0.000       8.066      17.547\n",
       "group[T.placebo]    14.0772      2.391      5.888      0.000       9.337      18.818\n",
       "==============================================================================\n",
       "Omnibus:                        0.257   Durbin-Watson:                   2.075\n",
       "Prob(Omnibus):                  0.879   Jarque-Bera (JB):                0.431\n",
       "Skew:                          -0.056   Prob(JB):                        0.806\n",
       "Kurtosis:                       2.712   Cond. No.                         3.73\n",
       "==============================================================================\n",
       "\n",
       "Warnings:\n",
       "[1] Standard Errors assume that the covariance matrix of the errors is correctly specified.\n",
       "\"\"\""
      ]
     },
     "execution_count": 30,
     "metadata": {},
     "output_type": "execute_result"
    }
   ],
   "source": [
    "#```{r echo=FALSE}\n",
    "# fit ANOVA model\n",
    "#lmResultANOVA <- lm(sysBP ~ d1 + d2, data = df)\n",
    "#summary(lmResultANOVA)\n",
    "#```\n",
    "\n",
    "ols_model = ols(formula='sysBP~ group + 1', data=df)\n",
    "ols_result = ols_model.fit()\n",
    "ols_result.summary()"
   ]
  },
  {
   "cell_type": "markdown",
   "metadata": {},
   "source": [
    "The output from this command provides us with two things.  First, it shows us the result of a t-test for each of the dummy variables, which basically tell us whether each of the conditions separately differs from placebo; it appears that Drug 1 does whereas Drug 2 does not.  However, keep in mind that if we wanted to interpret these tests, we would need to correct the p-values to account for the fact that we have done multiple hypothesis tests; we will see an example of how to do this in the next chapter.\n",
    "\n",
    "Remember that the hypothesis that we started out wanting to test was whether there was any difference between any of the conditions; we refer to this as an *omnibus* hypothesis test, and it is the test that is provided by the F statistic. The F statistic basically tells us whether our model is better than a simple model that just includes an intercept.  In this case we see that the F test is highly significant, consistent with our impression that there did seem to be differences between the groups (which in fact we know there were, because we created the data)."
   ]
  },
  {
   "cell_type": "code",
   "execution_count": null,
   "metadata": {},
   "outputs": [],
   "source": [
    "```{r echo=FALSE}\n",
    "# Add section on post-hoc tests using emmeans\n",
    "```"
   ]
  },
  {
   "cell_type": "markdown",
   "metadata": {},
   "source": [
    "## Learning objectives\n",
    "\n",
    "After reading this chapter, you should be able to:\n",
    "\n",
    "* Describe the rationale behind the sign test\n",
    "* Describe how the t-test can be used to compare a single mean to a hypothesized value\n",
    "* Compare the means for two paired or unpaired groups using a two-sample t-test\n",
    "\n",
    "\n",
    "## Appendix\n",
    "\n",
    "### The paired t-test as a linear model\n",
    "\n",
    "We can also define the paired t-test in terms of a general linear model.  To do this, we include all of the measurements for each subject as data points (within a tidy data frame).  We then include in the model a variable that codes for the identity of each individual (in this case, the ID variable that contains a subject ID for each person). This is known as a *mixed model*, since it includes effects of independent variables as well as effects of individuals.  The standard model fitting procedure ```lm()``` can't do this, but we can do it using the ```lmer()``` function from a popular R package called *lme4*, which is specialized for estimating mixed models.  The ```(1|ID)``` in the formula tells `lmer()` to estimate a separate intercept (which is what the ```1``` refers to) for each value of the ```ID``` variable (i.e. for each individual in the dataset), and then estimate a common slope relating timepoint to BP."
   ]
  },
  {
   "cell_type": "code",
   "execution_count": null,
   "metadata": {},
   "outputs": [],
   "source": [
    "#```{r,messages=FALSE}\n",
    "# compute mixed model for paired test\n",
    "#lmrResult <- lmer(BPsys ~ timepoint + (1 | ID), \n",
    "#                  data = NHANES_sample_tidy)\n",
    "#summary(lmrResult)\n",
    "#```"
   ]
  },
  {
   "cell_type": "markdown",
   "metadata": {},
   "source": [
    "You can see that this shows us a p-value that is very close to the result from the paired t-test computed using the ```t.test()``` function."
   ]
  },
  {
   "cell_type": "code",
   "execution_count": null,
   "metadata": {},
   "outputs": [],
   "source": []
  }
 ],
 "metadata": {
  "jupytext": {
   "formats": "ipynb,py:percent"
  },
  "kernelspec": {
   "display_name": "Python 3",
   "language": "python",
   "name": "python3"
  },
  "language_info": {
   "codemirror_mode": {
    "name": "ipython",
    "version": 3
   },
   "file_extension": ".py",
   "mimetype": "text/x-python",
   "name": "python",
   "nbconvert_exporter": "python",
   "pygments_lexer": "ipython3",
   "version": "3.7.3"
  }
 },
 "nbformat": 4,
 "nbformat_minor": 4
}
