{
 "cells": [
  {
   "cell_type": "markdown",
   "metadata": {},
   "source": [
    "# Comparing means"
   ]
  },
  {
   "cell_type": "code",
   "execution_count": 4,
   "metadata": {},
   "outputs": [],
   "source": [
    "import numpy as np\n",
    "import pandas as pd\n",
    "import matplotlib.pyplot as plt\n",
    "from scipy import stats\n",
    "import seaborn as sns\n",
    "import statsmodels.api as sm"
   ]
  },
  {
   "cell_type": "code",
   "execution_count": 5,
   "metadata": {
    "lines_to_next_cell": 2
   },
   "outputs": [
    {
     "name": "stderr",
     "output_type": "stream",
     "text": [
      "/Users/johnbutler/anaconda3/lib/python3.7/site-packages/IPython/core/interactiveshell.py:3248: DtypeWarning: Columns (142) have mixed types.Specify dtype option on import or set low_memory=False.\n",
      "  if (await self.run_code(code, result,  async_=asy)):\n"
     ]
    }
   ],
   "source": [
    "# load the NHANES data library\n",
    "from nhanes.load import load_NHANES_data\n",
    "nhanes_data = load_NHANES_data()\n",
    "adult_nhanes_data = nhanes_data.query('AgeInYearsAtScreening > 17')\n",
    "## Need to remove duplicates\n",
    "#nhanes_data=nhanes_data.drop_duplicates(subset =\"ID\",  keep = 'first', inplace = True)"
   ]
  },
  {
   "cell_type": "markdown",
   "metadata": {},
   "source": [
    "We have already encountered a number of cases where we wanted to ask questions about the mean of a sample.  \n",
    "In this chapter, we will delve deeper into the various ways that we can compare means.\n",
    "\n",
    "\n",
    "## Testing the value of a single mean\n",
    "\n",
    "The simplest question we might want to ask of a mean is whether it has a specific value.  Let's say that we want to test whether the mean BMI value in adults from the NHANES dataset is above 25, which is the lower cutoff for being overweight according to the US Centers for Disease Control.  We take a sample of 200 adults in order to ask this question."
   ]
  },
  {
   "cell_type": "code",
   "execution_count": 6,
   "metadata": {},
   "outputs": [
    {
     "data": {
      "image/png": "[encoded data removed]",
      "text/plain": [
       "<Figure size 432x288 with 1 Axes>"
      ]
     },
     "metadata": {
      "needs_background": "light"
     },
     "output_type": "display_data"
    }
   ],
   "source": [
    "adult_nhanes_data_na=adult_nhanes_data.dropna(subset=['BodyMassIndexKgm2']) # Removing NA's\n",
    "adult_nhames_sample=adult_nhanes_data_na.sample(n=200, random_state=1)\n",
    "fig, ax= plt.subplots(1, 1, figsize=(6,4))\n",
    "ax=adult_nhames_sample['BodyMassIndexKgm2'].hist()\n",
    "ax.axvline(25,color='g',linewidth=4)\n",
    "\n",
    "adult_nhames_sample['BMIdiff']=adult_nhames_sample['BodyMassIndexKgm2']>25"
   ]
  },
  {
   "cell_type": "markdown",
   "metadata": {},
   "source": [
    "One simple way to test for this difference is using a test called the *sign test*, \n",
    "which asks whether the proportion of positive differences between the actual value and the hypothesized value is different than what we would expect by chance.  To do this, we take the differences between each data point and the hypothesized mean value and compute their sign.  In our sample, we see that "
   ]
  },
  {
   "cell_type": "code",
   "execution_count": 9,
   "metadata": {},
   "outputs": [
    {
     "name": "stdout",
     "output_type": "stream",
     "text": [
      "72.0\n"
     ]
    }
   ],
   "source": [
    "print(np.mean(adult_nhames_sample['BMIdiff']*100))"
   ]
  },
  {
   "cell_type": "markdown",
   "metadata": {},
   "source": [
    "percent of individuals have a BMI greater than 25.  We can then use a binomial test to ask whether this proportion of positive differences is greater than 0.5, using the `binom_test()` function in Python:"
   ]
  },
  {
   "cell_type": "code",
   "execution_count": 10,
   "metadata": {},
   "outputs": [
    {
     "name": "stdout",
     "output_type": "stream",
     "text": [
      "2.0076963966165487e-10\n"
     ]
    }
   ],
   "source": [
    "# compute sign test for differences between first and second measurement\n",
    "npos = np.sum(adult_nhames_sample['BMIdiff'])\n",
    "bt=stats.binom_test(npos, n=adult_nhames_sample.shape[0], p=0.5, alternative='greater')\n",
    "print(bt)"
   ]
  },
  {
   "cell_type": "markdown",
   "metadata": {},
   "source": [
    "Here we see that the proportion of individuals with positive signs would be *very* surprising under the null hypothesis of $p=0.5$. \n",
    "\n",
    "We can also ask this question using Student's t-test, which you have already encountered earlier in the book.  We will refer to the mean as $\\bar{X}$ and the hypothesized population mean as $\\mu$.  Then, the t test for a single mean is:\n",
    "\n",
    "$$\n",
    "t = \\frac{\\bar{X} - \\mu}{SEM}\n",
    "$$\n",
    "where SEM (as you may remember from the chapter on sampling) is defined as:\n",
    "\n",
    "$$\n",
    "SEM = \\frac{\\hat{\\sigma}}{\\sqrt{n}}\n",
    "$$\n",
    "\n",
    "In essence, the t statistic asks how large the deviation of the sample mean from the hypothesized quantity is with respect to the sampling variability of the mean.\n",
    "\n",
    "We can compute this for the NHANES dataset using the ```t.ttest_1samp()``` function in Python:"
   ]
  },
  {
   "cell_type": "code",
   "execution_count": 11,
   "metadata": {},
   "outputs": [
    {
     "data": {
      "text/plain": [
       "Ttest_1sampResult(statistic=41.756178548690286, pvalue=2.0768446051226403e-100)"
      ]
     },
     "execution_count": 11,
     "metadata": {},
     "output_type": "execute_result"
    }
   ],
   "source": [
    "stats.ttest_1samp(adult_nhames_sample['BodyMassIndexKgm2'],5.0)"
   ]
  },
  {
   "cell_type": "markdown",
   "metadata": {},
   "source": [
    "This shows us that the mean BMI in the dataset  is significantly larger than the cutoff for overweight.\n",
    "\n",
    "## Comparing two means {#comparing-two-means}\n",
    "\n",
    "A more common question that often arises in statistics is whether there is a difference between the means of two different groups.  Let's say that we would like to know whether regular marijuana smokers watch more television.  We can ask this question using the NHANES dataset; let's take a sample of 200 individuals from the dataset and test whether the number of hours of television watching per day is related to regular marijuana use.  The left panel of Figure \\@ref(fig:PotTVViolin) shows these data using a violin plot."
   ]
  },
  {
   "cell_type": "code",
   "execution_count": 12,
   "metadata": {},
   "outputs": [
    {
     "data": {
      "image/png": "[encoded data removed]",
      "text/plain": [
       "<Figure size 432x288 with 1 Axes>"
      ]
     },
     "metadata": {
      "needs_background": "light"
     },
     "output_type": "display_data"
    }
   ],
   "source": [
    "# In the R code it was TVHrsDay\n",
    "\n",
    "adult_nhanes_data=adult_nhanes_data.dropna(subset=['EverUsedMarijuanaOrHashish','SleepHoursWeekdaysOrWorkdays']) # Removing NA's\n",
    "adult_nhames_sample=adult_nhanes_data.sample(n=200, random_state=0)\n",
    "adult_nhames_sample['GenderNum']=adult_nhames_sample['Gender']=='Female'\n",
    "adult_nhames_sample=adult_nhames_sample[['GenderNum','Gender','SleepHoursWeekdaysOrWorkdays','EverUsedMarijuanaOrHashish']]\n",
    "ax = sns.violinplot(x=adult_nhames_sample['EverUsedMarijuanaOrHashish'],y=adult_nhames_sample['SleepHoursWeekdaysOrWorkdays'])"
   ]
  },
  {
   "cell_type": "code",
   "execution_count": 13,
   "metadata": {},
   "outputs": [],
   "source": [
    "Group1 = adult_nhames_sample.loc[adult_nhames_sample['EverUsedMarijuanaOrHashish']==0.0]\n",
    "Group2 = adult_nhames_sample.loc[adult_nhames_sample['EverUsedMarijuanaOrHashish']==1.0]"
   ]
  },
  {
   "cell_type": "markdown",
   "metadata": {},
   "source": [
    "We can also use Student's t test to test for differences between two groups of independent observations (as we saw in an earlier chapter); we will turn later in the chapter to cases where the observations are not independent.  As a reminder, the t-statistic for comparison of two independent groups is computed as:\n",
    "\n",
    "$$\n",
    "t = \\frac{\\bar{X_1} - \\bar{X_2}}{\\sqrt{\\frac{S_1^2}{n_1} + \\frac{S_2^2}{n_2}}}\n",
    "$$\n",
    "\n",
    "where $\\bar{X}_1$ and $\\bar{X}_2$ are the means of the two groups, $S^2_1$ and $S^2_2$ are the variances for each of the groups, and $n_1$ and $n_2$ are the sizes of the two groups.  Under the null hypothesis of no difference between means, this statistic is distributed according to a t distribution with n-2 degrees of freedom (since we have computed two parameter estimates, namely the means of the two groups).  We can compute the independent t-test in Python using the ```ttest_ind()``` function. In this case, we started with the specific hypothesis that smoking marijuana is associated with greater TV watching, so we will use a one-tailed test.  Since the t.test function orders the conditions alphabetically, the \"No\" group comes first, and thus we need to test the alternative hypothesis of whether the first group is less than the second (\"Yes\") group; for this reason, we specify 'less' as our alternative."
   ]
  },
  {
   "cell_type": "code",
   "execution_count": 14,
   "metadata": {},
   "outputs": [
    {
     "data": {
      "text/plain": [
       "Ttest_indResult(statistic=-0.2807368001612226, pvalue=0.7792054063820408)"
      ]
     },
     "execution_count": 14,
     "metadata": {},
     "output_type": "execute_result"
    }
   ],
   "source": [
    "stats.ttest_ind(Group2['SleepHoursWeekdaysOrWorkdays'], Group1['SleepHoursWeekdaysOrWorkdays'])"
   ]
  },
  {
   "cell_type": "markdown",
   "metadata": {},
   "source": [
    "In this case we see that there is a statistically significant difference between groups, in the expected direction - regular pot smokers watch more TV.\n",
    "\n",
    "## The t-test as a linear model {#ttest-linear-model}\n",
    "\n",
    "The t-test is often presented as a specialized tool for comparing means, but it can also be viewed as an application of the general linear model.  In this case, the model would look like this:\n",
    "\n",
    "$$\n",
    "\\hat{TV} = \\hat{\\beta_1}*Marijuana + \\hat{\\beta_0}\n",
    "$$\n",
    "However, smoking is a binary variable, so we treat it as a *dummy variable* like we discussed in the previous chapter, setting it to a value of 1 for smokers and zero for nonsmokers.  In that case, $\\hat{\\beta_1}$ is simply the difference in means between the two groups, and $\\hat{\\beta_0}$ is the mean for the group that was coded as zero.  We can fit this model using the ```ols()``` function, and see that it gives the same t statistic as the t-test above:"
   ]
  },
  {
   "cell_type": "code",
   "execution_count": 15,
   "metadata": {},
   "outputs": [
    {
     "data": {
      "text/html": [
       "<table class=\"simpletable\">\n",
       "<caption>OLS Regression Results</caption>\n",
       "<tr>\n",
       "  <th>Dep. Variable:</th>    <td>SleepHoursWeekdaysOrWorkdays</td> <th>  R-squared:         </th> <td>   0.000</td>\n",
       "</tr>\n",
       "<tr>\n",
       "  <th>Model:</th>                         <td>OLS</td>             <th>  Adj. R-squared:    </th> <td>  -0.005</td>\n",
       "</tr>\n",
       "<tr>\n",
       "  <th>Method:</th>                   <td>Least Squares</td>        <th>  F-statistic:       </th> <td> 0.07881</td>\n",
       "</tr>\n",
       "<tr>\n",
       "  <th>Date:</th>                   <td>Sun, 26 Jul 2020</td>       <th>  Prob (F-statistic):</th>  <td> 0.779</td> \n",
       "</tr>\n",
       "<tr>\n",
       "  <th>Time:</th>                       <td>14:44:27</td>           <th>  Log-Likelihood:    </th> <td> -384.33</td>\n",
       "</tr>\n",
       "<tr>\n",
       "  <th>No. Observations:</th>            <td>   200</td>            <th>  AIC:               </th> <td>   772.7</td>\n",
       "</tr>\n",
       "<tr>\n",
       "  <th>Df Residuals:</th>                <td>   198</td>            <th>  BIC:               </th> <td>   779.3</td>\n",
       "</tr>\n",
       "<tr>\n",
       "  <th>Df Model:</th>                    <td>     1</td>            <th>                     </th>     <td> </td>   \n",
       "</tr>\n",
       "<tr>\n",
       "  <th>Covariance Type:</th>            <td>nonrobust</td>          <th>                     </th>     <td> </td>   \n",
       "</tr>\n",
       "</table>\n",
       "<table class=\"simpletable\">\n",
       "<tr>\n",
       "               <td></td>                 <th>coef</th>     <th>std err</th>      <th>t</th>      <th>P>|t|</th>  <th>[0.025</th>    <th>0.975]</th>  \n",
       "</tr>\n",
       "<tr>\n",
       "  <th>Intercept</th>                  <td>    7.6651</td> <td>    0.159</td> <td>   48.163</td> <td> 0.000</td> <td>    7.351</td> <td>    7.979</td>\n",
       "</tr>\n",
       "<tr>\n",
       "  <th>EverUsedMarijuanaOrHashish</th> <td>   -0.0662</td> <td>    0.236</td> <td>   -0.281</td> <td> 0.779</td> <td>   -0.532</td> <td>    0.399</td>\n",
       "</tr>\n",
       "</table>\n",
       "<table class=\"simpletable\">\n",
       "<tr>\n",
       "  <th>Omnibus:</th>       <td> 9.313</td> <th>  Durbin-Watson:     </th> <td>   2.382</td>\n",
       "</tr>\n",
       "<tr>\n",
       "  <th>Prob(Omnibus):</th> <td> 0.009</td> <th>  Jarque-Bera (JB):  </th> <td>  17.025</td>\n",
       "</tr>\n",
       "<tr>\n",
       "  <th>Skew:</th>          <td>-0.160</td> <th>  Prob(JB):          </th> <td>0.000201</td>\n",
       "</tr>\n",
       "<tr>\n",
       "  <th>Kurtosis:</th>      <td> 4.393</td> <th>  Cond. No.          </th> <td>    2.53</td>\n",
       "</tr>\n",
       "</table><br/><br/>Warnings:<br/>[1] Standard Errors assume that the covariance matrix of the errors is correctly specified."
      ],
      "text/plain": [
       "<class 'statsmodels.iolib.summary.Summary'>\n",
       "\"\"\"\n",
       "                                 OLS Regression Results                                 \n",
       "========================================================================================\n",
       "Dep. Variable:     SleepHoursWeekdaysOrWorkdays   R-squared:                       0.000\n",
       "Model:                                      OLS   Adj. R-squared:                 -0.005\n",
       "Method:                           Least Squares   F-statistic:                   0.07881\n",
       "Date:                          Sun, 26 Jul 2020   Prob (F-statistic):              0.779\n",
       "Time:                                  14:44:27   Log-Likelihood:                -384.33\n",
       "No. Observations:                           200   AIC:                             772.7\n",
       "Df Residuals:                               198   BIC:                             779.3\n",
       "Df Model:                                     1                                         \n",
       "Covariance Type:                      nonrobust                                         \n",
       "==============================================================================================\n",
       "                                 coef    std err          t      P>|t|      [0.025      0.975]\n",
       "----------------------------------------------------------------------------------------------\n",
       "Intercept                      7.6651      0.159     48.163      0.000       7.351       7.979\n",
       "EverUsedMarijuanaOrHashish    -0.0662      0.236     -0.281      0.779      -0.532       0.399\n",
       "==============================================================================\n",
       "Omnibus:                        9.313   Durbin-Watson:                   2.382\n",
       "Prob(Omnibus):                  0.009   Jarque-Bera (JB):               17.025\n",
       "Skew:                          -0.160   Prob(JB):                     0.000201\n",
       "Kurtosis:                       4.393   Cond. No.                         2.53\n",
       "==============================================================================\n",
       "\n",
       "Warnings:\n",
       "[1] Standard Errors assume that the covariance matrix of the errors is correctly specified.\n",
       "\"\"\""
      ]
     },
     "execution_count": 15,
     "metadata": {},
     "output_type": "execute_result"
    }
   ],
   "source": [
    "from statsmodels.formula.api import ols\n",
    "ols_model = ols(formula='SleepHoursWeekdaysOrWorkdays~ EverUsedMarijuanaOrHashish + 1', data=adult_nhames_sample)\n",
    "ols_result = ols_model.fit()\n",
    "ols_result.summary()"
   ]
  },
  {
   "cell_type": "markdown",
   "metadata": {},
   "source": [
    "We can also view the linear model results graphically (see the right panel of Figure \\@ref(fig:PotTVViolin)).  In this case, the predicted value for nonsmokers is $\\hat{\\beta_0}$ is"
   ]
  },
  {
   "cell_type": "code",
   "execution_count": 33,
   "metadata": {},
   "outputs": [
    {
     "data": {
      "text/plain": [
       "7.665137614678899"
      ]
     },
     "execution_count": 33,
     "metadata": {},
     "output_type": "execute_result"
    }
   ],
   "source": [
    "ols_result.params[0]"
   ]
  },
  {
   "cell_type": "markdown",
   "metadata": {},
   "source": [
    "and the predicted value for smokers is $\\hat{\\beta_0} +\\hat{\\beta_1}$ "
   ]
  },
  {
   "cell_type": "code",
   "execution_count": 34,
   "metadata": {},
   "outputs": [
    {
     "data": {
      "text/plain": [
       "7.598901098901096"
      ]
     },
     "execution_count": 34,
     "metadata": {},
     "output_type": "execute_result"
    }
   ],
   "source": [
    "ols_result.params[0]+ols_result.params[1]"
   ]
  },
  {
   "cell_type": "markdown",
   "metadata": {},
   "source": [
    "To compute the standard errors for this analysis, we can use exactly the same equations that we used for linear regression -- since this really is just another example of linear regression.  In fact, if you compare the p-value from the t-test above with the p-value in the linear regression analysis for the marijuana use variable, you will see that the one from the linear regression analysis is exactly twice the one from the t-test, because the linear regression analysis is performing a two-tailed test.  \n",
    "\n",
    "### Effect sizes for comparing two means\n",
    "\n",
    "The most commonly used effect size for a comparison between two means is Cohen's d, which (as you may remember from Chapter \\@ref(ci-effect-size-power)) is an expression of the effect in terms of standard error units.  For the t-test estimated using the general linear model outlined above (i.e. with a single dummy-coded variable), this is expressed as:\n",
    "\n",
    "$$\n",
    "d = \\frac{\\hat{beta_1}}{SE_{residual}}\n",
    "$$\n",
    "We can obtain these values from the analysis output above, giving us a d = "
   ]
  },
  {
   "cell_type": "code",
   "execution_count": 28,
   "metadata": {},
   "outputs": [
    {
     "data": {
      "text/plain": [
       "7.665137614678899"
      ]
     },
     "execution_count": 28,
     "metadata": {},
     "output_type": "execute_result"
    }
   ],
   "source": [
    "ols_result.params[1]"
   ]
  },
  {
   "cell_type": "code",
   "execution_count": 42,
   "metadata": {},
   "outputs": [
    {
     "data": {
      "text/plain": [
       "-0.04006478356009202"
      ]
     },
     "execution_count": 42,
     "metadata": {},
     "output_type": "execute_result"
    }
   ],
   "source": [
    "ols_result.params[1]/np.sqrt(np.sum(ols_result.resid**2)/200)"
   ]
  },
  {
   "cell_type": "markdown",
   "metadata": {},
   "source": [
    ", which we would generally interpret as a medium sized effect.\n",
    "\n",
    "We can also compute $R^2$ for this analysis, which tells us how much variance in TV watching is accounted for.  This value (which is reported in the summary of the lm() analysis) is "
   ]
  },
  {
   "cell_type": "code",
   "execution_count": 43,
   "metadata": {},
   "outputs": [
    {
     "data": {
      "text/plain": [
       "0.0003978878392444374"
      ]
     },
     "execution_count": 43,
     "metadata": {},
     "output_type": "execute_result"
    }
   ],
   "source": [
    "ols_result.rsquared"
   ]
  },
  {
   "cell_type": "markdown",
   "metadata": {},
   "source": [
    "which tells us that while the effect may be statistically significant, it accounts for relatively little of the variance in TV watching.\n",
    "\n",
    "## Bayes factor for mean differences\n",
    "\n",
    "As we discussed in the chapter on Bayesian analysis, Bayes factors provide a way to better quantify evidence in favor or against the null hypothesis of no difference.  In this case, we want to specifically test against the null hypothesis that the difference is greater than zero - because the difference is computed by the function between the first group ('No') and the second group ('Yes'). Thus, we specify a \"null interval\" going from zero to infinity, which means that the alternative is less than zero."
   ]
  },
  {
   "cell_type": "code",
   "execution_count": 44,
   "metadata": {},
   "outputs": [],
   "source": [
    "import rpy2.robjects as robjects\n",
    "from rpy2.robjects import r, pandas2ri\n",
    "from rpy2.robjects.packages import importr\n",
    "pandas2ri.activate()\n",
    "#import rpy2.robjects.packages as rpackages"
   ]
  },
  {
   "cell_type": "code",
   "execution_count": 45,
   "metadata": {},
   "outputs": [],
   "source": [
    "# import the BayesFactor package\n",
    "BayesFactor = importr('BayesFactor')"
   ]
  },
  {
   "cell_type": "code",
   "execution_count": 46,
   "metadata": {},
   "outputs": [],
   "source": [
    "# import the data frames into the R workspace\n",
    "robjects.globalenv[\"Group1\"] = Group1\n",
    "robjects.globalenv[\"Group2\"] = Group2"
   ]
  },
  {
   "cell_type": "code",
   "execution_count": 47,
   "metadata": {
    "lines_to_next_cell": 2
   },
   "outputs": [
    {
     "name": "stdout",
     "output_type": "stream",
     "text": [
      "\n",
      "\tWelch Two Sample t-test\n",
      "\n",
      "data:  Group1$SleepHoursWeekdaysOrWorkdays and Group2$SleepHoursWeekdaysOrWorkdays\n",
      "t = 0.27975, df = 188.82, p-value = 0.39\n",
      "alternative hypothesis: true difference in means is greater than 0\n",
      "95 percent confidence interval:\n",
      " -0.3251427        Inf\n",
      "sample estimates:\n",
      "mean of x mean of y \n",
      " 7.665138  7.598901 \n",
      "\n",
      "Bayes factor analysis\n",
      "--------------\n",
      "[1] Alt., r=0.707 0<d<Inf    : 0.1259773 ±0.07%\n",
      "[2] Alt., r=0.707 !(0<d<Inf) : 0.1944809 ±0%\n",
      "\n",
      "Against denominator:\n",
      "  Null, mu1-mu2 = 0 \n",
      "---\n",
      "Bayes factor type: BFindepSample, JZS\n",
      "\n"
     ]
    },
    {
     "data": {
      "text/plain": [
       "<rpy2.rinterface_lib.sexp.NULLType object at 0x7fa5b04ef248> [RTYPES.NILSXP]"
      ]
     },
     "execution_count": 47,
     "metadata": {},
     "output_type": "execute_result"
    }
   ],
   "source": [
    "# perform the standard t-test\n",
    "ttest_output = r('print(t.test(Group1$SleepHoursWeekdaysOrWorkdays, Group2$SleepHoursWeekdaysOrWorkdays, alternative=\"greater\"))')\n",
    "# compute the Bayes factor\n",
    "r('bf = ttestBF(y=Group1$SleepHoursWeekdaysOrWorkdays, x=Group2$SleepHoursWeekdaysOrWorkdays, nullInterval = c(0, Inf))')\n",
    "r('summary(bf)')"
   ]
  },
  {
   "cell_type": "markdown",
   "metadata": {},
   "source": [
    "This shows us that the evidence against the null hypothesis is moderately strong.\n",
    "\n",
    "## Comparing paired observations"
   ]
  },
  {
   "cell_type": "code",
   "execution_count": 55,
   "metadata": {},
   "outputs": [],
   "source": [
    "adult_nhanes_data_na=adult_nhanes_data.dropna(subset=['SystolicBloodPres1StRdgMmHg','SystolicBloodPres2NdRdgMmHg']) # Removing NA's\n",
    "adult_nhames_sample=adult_nhanes_data_na.sample(n=200, random_state=10)\n",
    "BloodPressure=adult_nhames_sample[['SystolicBloodPres1StRdgMmHg','SystolicBloodPres2NdRdgMmHg']]\n",
    "BloodPressure.loc[:,'ID']=np.arange(0,200)\n",
    "BP=BloodPressure.melt(id_vars=['ID'],value_vars = ['SystolicBloodPres1StRdgMmHg','SystolicBloodPres2NdRdgMmHg'],var_name='Order',value_name='Pressure')"
   ]
  },
  {
   "cell_type": "code",
   "execution_count": 56,
   "metadata": {},
   "outputs": [
    {
     "data": {
      "image/png": "[encoded data removed]",
      "text/plain": [
       "<Figure size 432x288 with 1 Axes>"
      ]
     },
     "metadata": {
      "needs_background": "light"
     },
     "output_type": "display_data"
    }
   ],
   "source": [
    "ax = sns.violinplot(x=BP['Order'],y=BP['Pressure'])\n",
    "ax = sns.swarmplot(x=\"Order\", y=\"Pressure\", data=BP, color=\".25\")"
   ]
  },
  {
   "cell_type": "code",
   "execution_count": 57,
   "metadata": {},
   "outputs": [],
   "source": [
    "BloodPressure.loc[:,'BPSdiff']=BloodPressure.loc[:,'SystolicBloodPres1StRdgMmHg']-BloodPressure.loc[:,'SystolicBloodPres2NdRdgMmHg']\n",
    "#BloodPressure['meanBPS']=(BloodPressure['SystolicBloodPres1StRdgMmHg']+BloodPressure['SystolicBloodPres2NdRdgMmHg'])/2\n",
    "BloodPressure.loc[:,'meanBPS']=adult_nhanes_data[['SystolicBloodPres1StRdgMmHg', 'SystolicBloodPres2NdRdgMmHg']].mean(1)\n",
    "BloodPressure.loc[:,'diffPos']=BloodPressure.loc[:,'BPSdiff']>0"
   ]
  },
  {
   "cell_type": "markdown",
   "metadata": {},
   "source": [
    "In experimental research, we often use *within-subjects* designs, in which we compare the same person on multiple measurements.  The measurement that come from this kind of design are often referred to as *repeated measures*. For example, in the NHANES dataset blood pressure was measured three times. Let's say that we are interested in testing whether there is a difference in mean blood pressure between the first and second measurement (Figure  \\@ref(fig:BPfig)). We see that there does not seem to be much of a difference in mean blood pressure between time points (about one point). First let's test for a difference using an independent samples t-test, which ignores the fact that pairs of data points come from the the same individuals.   "
   ]
  },
  {
   "cell_type": "code",
   "execution_count": 58,
   "metadata": {},
   "outputs": [
    {
     "data": {
      "text/plain": [
       "Ttest_indResult(statistic=0.10357196964042913, pvalue=0.9175612011997831)"
      ]
     },
     "execution_count": 58,
     "metadata": {},
     "output_type": "execute_result"
    }
   ],
   "source": [
    "stats.ttest_ind(BloodPressure['SystolicBloodPres1StRdgMmHg'], BloodPressure['SystolicBloodPres2NdRdgMmHg'])"
   ]
  },
  {
   "cell_type": "markdown",
   "metadata": {},
   "source": [
    "This analysis shows no significant difference. However, this analysis is inappropriate since it assumes that the two samples are independent, when in fact they are not, since the data come from the same individuals.  We can plot the data with a line for each individual to show this (see Figure \\@ref(fig:BPLinePlot)).\n",
    "\n",
    "In this analysis, what we really care about is whether the blood pressure for each person changed in a systematic way between the two measurements, so another way to represent the data is to compute the difference between the two timepoints for each individual, and then analyze these difference scores rather than analyzing the individual measurements. In Figure \\@ref(fig:BPDiffHist), we show a histogram of these difference scores, with a blue line denoting the mean difference."
   ]
  },
  {
   "cell_type": "code",
   "execution_count": 59,
   "metadata": {},
   "outputs": [
    {
     "data": {
      "image/png": "[encoded data removed]",
      "text/plain": [
       "<Figure size 432x288 with 1 Axes>"
      ]
     },
     "metadata": {
      "needs_background": "light"
     },
     "output_type": "display_data"
    }
   ],
   "source": [
    "ax=BloodPressure['BPSdiff'].hist(bins=20)\n",
    "ax.axvline(BloodPressure['BPSdiff'].mean(),color='k',linewidth=4)\n",
    "plt.show()"
   ]
  },
  {
   "cell_type": "markdown",
   "metadata": {},
   "source": [
    "### Sign test\n",
    "\n",
    "One simple way to test for differences is using the *sign test*. To do this, we take the differences and compute their sign, and then we use a binomial test to ask whether the proportion of positive signs differs from 0.5."
   ]
  },
  {
   "cell_type": "code",
   "execution_count": 60,
   "metadata": {},
   "outputs": [
    {
     "name": "stdout",
     "output_type": "stream",
     "text": [
      "0.998860280749097\n"
     ]
    }
   ],
   "source": [
    "npos = np.sum(BloodPressure['diffPos'])\n",
    "bt=stats.binom_test(npos, n=BloodPressure.shape[0], p=0.5, alternative='greater')\n",
    "print(bt)"
   ]
  },
  {
   "cell_type": "markdown",
   "metadata": {},
   "source": [
    "Here we see that the proportion of individuals with positive signs "
   ]
  },
  {
   "cell_type": "code",
   "execution_count": 63,
   "metadata": {},
   "outputs": [
    {
     "name": "stdout",
     "output_type": "stream",
     "text": [
      "0.395\n"
     ]
    }
   ],
   "source": [
    "print(npos/BloodPressure.shape[0])"
   ]
  },
  {
   "cell_type": "markdown",
   "metadata": {},
   "source": [
    " is not large enough to be surprising under the null hypothesis of $p=0.5$. However, one problem with the sign test is that it is throwing away information about the magnitude of the differences, and thus might be missing something.\n",
    "\n",
    "### Paired t-test\n",
    "A more common strategy is to use a *paired t-test*. We can compute this using the ```ttest_rel()``` function in Python.  "
   ]
  },
  {
   "cell_type": "code",
   "execution_count": 64,
   "metadata": {},
   "outputs": [
    {
     "data": {
      "text/plain": [
       "Ttest_relResult(statistic=0.47379139438363693, pvalue=0.636168056456183)"
      ]
     },
     "execution_count": 64,
     "metadata": {},
     "output_type": "execute_result"
    }
   ],
   "source": [
    "stats.ttest_rel(BloodPressure['SystolicBloodPres1StRdgMmHg'], BloodPressure['SystolicBloodPres2NdRdgMmHg'])"
   ]
  },
  {
   "cell_type": "markdown",
   "metadata": {},
   "source": [
    "This is equivalent to a one-sample t-test ```ttest_1samp()``` for whether the mean difference between the measurements is zero.  "
   ]
  },
  {
   "cell_type": "code",
   "execution_count": 65,
   "metadata": {},
   "outputs": [
    {
     "data": {
      "text/plain": [
       "Ttest_1sampResult(statistic=0.47379139438363693, pvalue=0.636168056456183)"
      ]
     },
     "execution_count": 65,
     "metadata": {},
     "output_type": "execute_result"
    }
   ],
   "source": [
    "stats.ttest_1samp(BloodPressure['BPSdiff'],popmean=0)"
   ]
  },
  {
   "cell_type": "markdown",
   "metadata": {},
   "source": [
    "With this analyses we see that there is in fact a significant difference between the two measurements. Let's compute the Bayes factor to see how much evidence is provided by the result:"
   ]
  },
  {
   "cell_type": "code",
   "execution_count": 66,
   "metadata": {},
   "outputs": [
    {
     "name": "stdout",
     "output_type": "stream",
     "text": [
      "Bayes factor analysis\n",
      "--------------\n",
      "[1] Alt., r=0.707 0<d<Inf    : 0.1201498  ±0.01%\n",
      "[2] Alt., r=0.707 !(0<d<Inf) : 0.05635624 ±0%\n",
      "\n",
      "Against denominator:\n",
      "  Null, mu = 0 \n",
      "---\n",
      "Bayes factor type: BFoneSample, JZS\n",
      "\n"
     ]
    },
    {
     "data": {
      "text/plain": [
       "<rpy2.rinterface_lib.sexp.NULLType object at 0x7fa5b04ef248> [RTYPES.NILSXP]"
      ]
     },
     "execution_count": 66,
     "metadata": {},
     "output_type": "execute_result"
    }
   ],
   "source": [
    "robjects.globalenv[\"BloodPressure\"] = BloodPressure\n",
    "# compute the Bayes factor\n",
    "r('bf = ttestBF(x=BloodPressure$SystolicBloodPres1StRdgMmHg, y=BloodPressure$SystolicBloodPres2NdRdgMmHg, paired = TRUE, nullInterval = c(0, Inf))')\n",
    "r('summary(bf)')"
   ]
  },
  {
   "cell_type": "markdown",
   "metadata": {},
   "source": [
    "This shows us that although the effect was significant in a paired t-test, it actually provides very little evidence in favor of the alternative hypothesis. \n",
    "\n",
    "The paired t-test can also be defined in terms of a linear model; see the Appendix for more details on this.\n",
    "\n",
    "## Comparing more than two means\n",
    "\n",
    "Often we want to compare more than two means to determine whether any of them differ from one another.  Let's say that we are analyzing data from a clinical trial for the treatment of high blood pressure.  In the study, volunteers are randomized to one of three conditions: Drug 1, Drug 2 or placebo.  Let's generate some data and plot them (see Figure \\@ref(fig:DrugTrial))"
   ]
  },
  {
   "cell_type": "code",
   "execution_count": 67,
   "metadata": {
    "lines_to_next_cell": 2
   },
   "outputs": [],
   "source": [
    "nPerGroup= 36"
   ]
  },
  {
   "cell_type": "code",
   "execution_count": 68,
   "metadata": {},
   "outputs": [
    {
     "data": {
      "image/png": "[encoded data removed]",
      "text/plain": [
       "<Figure size 432x288 with 1 Axes>"
      ]
     },
     "metadata": {
      "needs_background": "light"
     },
     "output_type": "display_data"
    }
   ],
   "source": [
    "np.random.seed(0)\n",
    "nPerGroup= 36\n",
    "noiseSD = 10\n",
    "meanSysBP = 140\n",
    "effectSize = 0.8\n",
    "\n",
    "group=['placebo']*nPerGroup+['drug1']*nPerGroup+['drug2']*nPerGroup\n",
    "BP1sys=np.random.normal(meanSysBP, noiseSD, nPerGroup)\n",
    "BP2sys=(np.random.normal(meanSysBP-noiseSD*effectSize, noiseSD, nPerGroup))\n",
    "BP3sys=(np.random.normal(meanSysBP, noiseSD, nPerGroup))\n",
    "BPsys=np.concatenate((BP1sys,BP2sys,BP3sys), axis=0)\n",
    "df=pd.DataFrame({'group': group,'BPsys':BPsys})\n",
    "ax = sns.boxplot(x=\"group\", y=\"BPsys\", data=df)"
   ]
  },
  {
   "cell_type": "markdown",
   "metadata": {},
   "source": [
    "### Analysis of variance {#ANOVA}\n",
    "\n",
    "We would first like to test the null hypothesis that the means of all of the groups are equal -- that is, neither of the treatments had any effect. We can do this using a method called *analysis of variance* (ANOVA). This is one of the most commonly used methods in psychological statistics, and we will only scratch the surface here.  The basic idea behind ANOVA is one that we already discussed in the chapter on the general linear model, and in fact ANOVA is just a name for a specific implementation of such a model.\n",
    "\n",
    "Remember from the last chapter that we can partition the total variance in the data ($SS_{total}$) into the variance that is explained by the model ($SS_{model}$) and the variance that is not ($SS_{error}$).  We can then compute a *mean square* for each of these by dividing them by their degrees of freedom; for the error this is $N - p$ (where $p$ is the number of means that we have computed), and for the model this is $p - 1$:\n",
    "\n",
    "$$\n",
    "MS_{model} =\\frac{SS_{model}}{df_{model}}= \\frac{SS_{model}}{p-1}\n",
    "$$\n",
    "\n",
    "$$\n",
    "MS_{error} = \\frac{SS_{error}}{df_{error}} = \\frac{SS_{error}}{N - p}\n",
    "$$\n",
    "\n",
    "With ANOVA, we want to test whether the variance accounted for by the model is greater than what we would expect by chance, under the null hypothesis of no differences between means.  Whereas for the t distribution the expected value is zero under the null hypothesis, that's not the case here, since sums of squares are always positive numbers.  Fortunately, there is another standard distribution that describes how ratios of sums of squares are distributed under the null hypothesis: The *F* distribution (see figure \\@ref(fig:FDist)). This distribution has two degrees of freedom, which correspond to the degrees of freedom for the numerator (which in this case is the model), and the denominator (which in this case is the error)."
   ]
  },
  {
   "cell_type": "code",
   "execution_count": 69,
   "metadata": {},
   "outputs": [
    {
     "data": {
      "image/png": "[encoded data removed]",
      "text/plain": [
       "<Figure size 432x288 with 1 Axes>"
      ]
     },
     "metadata": {
      "needs_background": "light"
     },
     "output_type": "display_data"
    }
   ],
   "source": [
    "from scipy.stats import f\n",
    "x=np.arange(0.1,10,0.1)\n",
    "ax=sns.lineplot(x=x,y=f.pdf(x, 1, 1))\n",
    "ax=sns.lineplot(x=x,y=f.pdf(x, 50, 1))\n",
    "ax=sns.lineplot(x=x,y=f.pdf(x, 50, 10))\n",
    "ax.set(xlabel='F Values', ylabel='Density')\n",
    "plt.show()"
   ]
  },
  {
   "cell_type": "markdown",
   "metadata": {},
   "source": [
    "To create an ANOVA model, we extend the idea of *dummy coding* that you encountered in the last chapter. Remember that for the t-test comparing two means, we created a single dummy variable that took the value of 1 for one of the conditions and zero for the others.  Here we extend that idea by creating two dummy variables, one that codes for the Drug 1 condition and the other that codes for the Drug 2 condition.  Just as in the t-test, we will have one condition (in this case, placebo) that doesn't have a dummy variable, and thus represents the baseline against which the others are compared; its mean defines the intercept of the model. Let's create the dummy coding for drugs 1 and 2."
   ]
  },
  {
   "cell_type": "code",
   "execution_count": 70,
   "metadata": {},
   "outputs": [],
   "source": [
    "df['drug1']=df['group']=='drug1'\n",
    "df['drug2']=df['group']=='drug2'"
   ]
  },
  {
   "cell_type": "markdown",
   "metadata": {},
   "source": [
    "Now we can fit a model using the same approach that we used in the previous chapter:"
   ]
  },
  {
   "cell_type": "code",
   "execution_count": 71,
   "metadata": {},
   "outputs": [
    {
     "data": {
      "text/html": [
       "<div>\n",
       "<style scoped>\n",
       "    .dataframe tbody tr th:only-of-type {\n",
       "        vertical-align: middle;\n",
       "    }\n",
       "\n",
       "    .dataframe tbody tr th {\n",
       "        vertical-align: top;\n",
       "    }\n",
       "\n",
       "    .dataframe thead th {\n",
       "        text-align: right;\n",
       "    }\n",
       "</style>\n",
       "<table border=\"1\" class=\"dataframe\">\n",
       "  <thead>\n",
       "    <tr style=\"text-align: right;\">\n",
       "      <th></th>\n",
       "      <th>df</th>\n",
       "      <th>sum_sq</th>\n",
       "      <th>mean_sq</th>\n",
       "      <th>F</th>\n",
       "      <th>PR(&gt;F)</th>\n",
       "    </tr>\n",
       "  </thead>\n",
       "  <tbody>\n",
       "    <tr>\n",
       "      <th>drug1</th>\n",
       "      <td>1.0</td>\n",
       "      <td>4336.449081</td>\n",
       "      <td>4336.449081</td>\n",
       "      <td>42.148824</td>\n",
       "      <td>2.866901e-09</td>\n",
       "    </tr>\n",
       "    <tr>\n",
       "      <th>drug2</th>\n",
       "      <td>1.0</td>\n",
       "      <td>29.053463</td>\n",
       "      <td>29.053463</td>\n",
       "      <td>0.282390</td>\n",
       "      <td>5.962615e-01</td>\n",
       "    </tr>\n",
       "    <tr>\n",
       "      <th>Residual</th>\n",
       "      <td>105.0</td>\n",
       "      <td>10802.843544</td>\n",
       "      <td>102.884224</td>\n",
       "      <td>NaN</td>\n",
       "      <td>NaN</td>\n",
       "    </tr>\n",
       "  </tbody>\n",
       "</table>\n",
       "</div>"
      ],
      "text/plain": [
       "             df        sum_sq      mean_sq          F        PR(>F)\n",
       "drug1       1.0   4336.449081  4336.449081  42.148824  2.866901e-09\n",
       "drug2       1.0     29.053463    29.053463   0.282390  5.962615e-01\n",
       "Residual  105.0  10802.843544   102.884224        NaN           NaN"
      ]
     },
     "execution_count": 71,
     "metadata": {},
     "output_type": "execute_result"
    }
   ],
   "source": [
    "\n",
    "ols_model = ols(formula='BPsys~ drug1+drug2', data=df)\n",
    "ols_result = ols_model.fit()\n",
    "aov_table = sm.stats.anova_lm(ols_result)\n",
    "aov_table "
   ]
  },
  {
   "cell_type": "markdown",
   "metadata": {},
   "source": [
    "The output from this command provides us with two things.  First, it shows us the result of a t-test for each of the dummy variables, which basically tell us whether each of the conditions separately differs from placebo; it appears that Drug 1 does whereas Drug 2 does not.  However, keep in mind that if we wanted to interpret these tests, we would need to correct the p-values to account for the fact that we have done multiple hypothesis tests; we will see an example of how to do this in the next chapter.\n",
    "\n",
    "Remember that the hypothesis that we started out wanting to test was whether there was any difference between any of the conditions; we refer to this as an *omnibus* hypothesis test, and it is the test that is provided by the F statistic. The F statistic basically tells us whether our model is better than a simple model that just includes an intercept.  In this case we see that the F test is highly significant, consistent with our impression that there did seem to be differences between the groups (which in fact we know there were, because we created the data)."
   ]
  },
  {
   "cell_type": "code",
   "execution_count": 72,
   "metadata": {},
   "outputs": [
    {
     "data": {
      "text/html": [
       "<div>\n",
       "<style scoped>\n",
       "    .dataframe tbody tr th:only-of-type {\n",
       "        vertical-align: middle;\n",
       "    }\n",
       "\n",
       "    .dataframe tbody tr th {\n",
       "        vertical-align: top;\n",
       "    }\n",
       "\n",
       "    .dataframe thead th {\n",
       "        text-align: right;\n",
       "    }\n",
       "</style>\n",
       "<table border=\"1\" class=\"dataframe\">\n",
       "  <thead>\n",
       "    <tr style=\"text-align: right;\">\n",
       "      <th></th>\n",
       "      <th>df</th>\n",
       "      <th>sum_sq</th>\n",
       "      <th>mean_sq</th>\n",
       "      <th>F</th>\n",
       "      <th>PR(&gt;F)</th>\n",
       "    </tr>\n",
       "  </thead>\n",
       "  <tbody>\n",
       "    <tr>\n",
       "      <th>group</th>\n",
       "      <td>2.0</td>\n",
       "      <td>4365.502544</td>\n",
       "      <td>2182.751272</td>\n",
       "      <td>21.215607</td>\n",
       "      <td>1.825965e-08</td>\n",
       "    </tr>\n",
       "    <tr>\n",
       "      <th>Residual</th>\n",
       "      <td>105.0</td>\n",
       "      <td>10802.843544</td>\n",
       "      <td>102.884224</td>\n",
       "      <td>NaN</td>\n",
       "      <td>NaN</td>\n",
       "    </tr>\n",
       "  </tbody>\n",
       "</table>\n",
       "</div>"
      ],
      "text/plain": [
       "             df        sum_sq      mean_sq          F        PR(>F)\n",
       "group       2.0   4365.502544  2182.751272  21.215607  1.825965e-08\n",
       "Residual  105.0  10802.843544   102.884224        NaN           NaN"
      ]
     },
     "execution_count": 72,
     "metadata": {},
     "output_type": "execute_result"
    }
   ],
   "source": [
    "ols_model = ols(formula='BPsys~ group', data=df)\n",
    "ols_result = ols_model.fit()\n",
    "aov_table = sm.stats.anova_lm(ols_result)\n",
    "aov_table "
   ]
  },
  {
   "cell_type": "code",
   "execution_count": 73,
   "metadata": {},
   "outputs": [
    {
     "data": {
      "text/html": [
       "<div>\n",
       "<style scoped>\n",
       "    .dataframe tbody tr th:only-of-type {\n",
       "        vertical-align: middle;\n",
       "    }\n",
       "\n",
       "    .dataframe tbody tr th {\n",
       "        vertical-align: top;\n",
       "    }\n",
       "\n",
       "    .dataframe thead th {\n",
       "        text-align: right;\n",
       "    }\n",
       "</style>\n",
       "<table border=\"1\" class=\"dataframe\">\n",
       "  <thead>\n",
       "    <tr style=\"text-align: right;\">\n",
       "      <th></th>\n",
       "      <th>Source</th>\n",
       "      <th>ddof1</th>\n",
       "      <th>ddof2</th>\n",
       "      <th>F</th>\n",
       "      <th>p-unc</th>\n",
       "      <th>np2</th>\n",
       "    </tr>\n",
       "  </thead>\n",
       "  <tbody>\n",
       "    <tr>\n",
       "      <th>0</th>\n",
       "      <td>group</td>\n",
       "      <td>2</td>\n",
       "      <td>105</td>\n",
       "      <td>21.215607</td>\n",
       "      <td>1.825965e-08</td>\n",
       "      <td>0.287803</td>\n",
       "    </tr>\n",
       "  </tbody>\n",
       "</table>\n",
       "</div>"
      ],
      "text/plain": [
       "  Source  ddof1  ddof2          F         p-unc       np2\n",
       "0  group      2    105  21.215607  1.825965e-08  0.287803"
      ]
     },
     "execution_count": 73,
     "metadata": {},
     "output_type": "execute_result"
    }
   ],
   "source": [
    "import pingouin as pg\n",
    "pg.anova(data=df, dv='BPsys',between='group', effsize=\"np2\")"
   ]
  },
  {
   "cell_type": "code",
   "execution_count": 74,
   "metadata": {},
   "outputs": [
    {
     "data": {
      "text/html": [
       "<div>\n",
       "<style scoped>\n",
       "    .dataframe tbody tr th:only-of-type {\n",
       "        vertical-align: middle;\n",
       "    }\n",
       "\n",
       "    .dataframe tbody tr th {\n",
       "        vertical-align: top;\n",
       "    }\n",
       "\n",
       "    .dataframe thead th {\n",
       "        text-align: right;\n",
       "    }\n",
       "</style>\n",
       "<table border=\"1\" class=\"dataframe\">\n",
       "  <thead>\n",
       "    <tr style=\"text-align: right;\">\n",
       "      <th></th>\n",
       "      <th>A</th>\n",
       "      <th>B</th>\n",
       "      <th>mean(A)</th>\n",
       "      <th>mean(B)</th>\n",
       "      <th>diff</th>\n",
       "      <th>se</th>\n",
       "      <th>tail</th>\n",
       "      <th>T</th>\n",
       "      <th>p-tukey</th>\n",
       "      <th>hedges</th>\n",
       "    </tr>\n",
       "  </thead>\n",
       "  <tbody>\n",
       "    <tr>\n",
       "      <th>0</th>\n",
       "      <td>drug1</td>\n",
       "      <td>drug2</td>\n",
       "      <td>128.911357</td>\n",
       "      <td>141.718051</td>\n",
       "      <td>-12.806694</td>\n",
       "      <td>2.390772</td>\n",
       "      <td>two-sided</td>\n",
       "      <td>-5.356719</td>\n",
       "      <td>0.001000</td>\n",
       "      <td>-1.249015</td>\n",
       "    </tr>\n",
       "    <tr>\n",
       "      <th>1</th>\n",
       "      <td>drug1</td>\n",
       "      <td>placebo</td>\n",
       "      <td>128.911357</td>\n",
       "      <td>142.988516</td>\n",
       "      <td>-14.077159</td>\n",
       "      <td>2.390772</td>\n",
       "      <td>two-sided</td>\n",
       "      <td>-5.888123</td>\n",
       "      <td>0.001000</td>\n",
       "      <td>-1.372921</td>\n",
       "    </tr>\n",
       "    <tr>\n",
       "      <th>2</th>\n",
       "      <td>drug2</td>\n",
       "      <td>placebo</td>\n",
       "      <td>141.718051</td>\n",
       "      <td>142.988516</td>\n",
       "      <td>-1.270465</td>\n",
       "      <td>2.390772</td>\n",
       "      <td>two-sided</td>\n",
       "      <td>-0.531404</td>\n",
       "      <td>0.839669</td>\n",
       "      <td>-0.123906</td>\n",
       "    </tr>\n",
       "  </tbody>\n",
       "</table>\n",
       "</div>"
      ],
      "text/plain": [
       "       A        B     mean(A)     mean(B)       diff        se       tail  \\\n",
       "0  drug1    drug2  128.911357  141.718051 -12.806694  2.390772  two-sided   \n",
       "1  drug1  placebo  128.911357  142.988516 -14.077159  2.390772  two-sided   \n",
       "2  drug2  placebo  141.718051  142.988516  -1.270465  2.390772  two-sided   \n",
       "\n",
       "          T   p-tukey    hedges  \n",
       "0 -5.356719  0.001000 -1.249015  \n",
       "1 -5.888123  0.001000 -1.372921  \n",
       "2 -0.531404  0.839669 -0.123906  "
      ]
     },
     "execution_count": 74,
     "metadata": {},
     "output_type": "execute_result"
    }
   ],
   "source": [
    "pg.pairwise_tukey(data=df, dv='BPsys', between='group')"
   ]
  },
  {
   "cell_type": "markdown",
   "metadata": {},
   "source": [
    "## Learning objectives\n",
    "\n",
    "After reading this chapter, you should be able to:\n",
    "\n",
    "* Describe the rationale behind the sign test\n",
    "* Describe how the t-test can be used to compare a single mean to a hypothesized value\n",
    "* Compare the means for two paired or unpaired groups using a two-sample t-test\n",
    "\n",
    "\n",
    "## Appendix\n",
    "\n",
    "### The paired t-test as a linear model\n",
    "\n",
    "We can also define the paired t-test in terms of a general linear model.  To do this, we include all of the measurements for each subject as data points (within a tidy data frame).  We then include in the model a variable that codes for the identity of each individual (in this case, the ID variable that contains a subject ID for each person). This is known as a *mixed model*, since it includes effects of independent variables as well as effects of individuals.  The standard model fitting procedure ```lm()``` can't do this, but we can do it using the ```lmer()``` function from a popular R package called *lme4*, which is specialized for estimating mixed models.  The ```(1|ID)``` in the formula tells `lmer()` to estimate a separate intercept (which is what the ```1``` refers to) for each value of the ```ID``` variable (i.e. for each individual in the dataset), and then estimate a common slope relating timepoint to BP."
   ]
  },
  {
   "cell_type": "code",
   "execution_count": 75,
   "metadata": {},
   "outputs": [
    {
     "data": {
      "text/html": [
       "<table class=\"simpletable\">\n",
       "<caption>OLS Regression Results</caption>\n",
       "<tr>\n",
       "  <th>Dep. Variable:</th>          <td>BPsys</td>      <th>  R-squared:         </th> <td>   0.288</td>\n",
       "</tr>\n",
       "<tr>\n",
       "  <th>Model:</th>                   <td>OLS</td>       <th>  Adj. R-squared:    </th> <td>   0.274</td>\n",
       "</tr>\n",
       "<tr>\n",
       "  <th>Method:</th>             <td>Least Squares</td>  <th>  F-statistic:       </th> <td>   21.22</td>\n",
       "</tr>\n",
       "<tr>\n",
       "  <th>Date:</th>             <td>Sun, 26 Jul 2020</td> <th>  Prob (F-statistic):</th> <td>1.83e-08</td>\n",
       "</tr>\n",
       "<tr>\n",
       "  <th>Time:</th>                 <td>20:58:59</td>     <th>  Log-Likelihood:    </th> <td> -401.94</td>\n",
       "</tr>\n",
       "<tr>\n",
       "  <th>No. Observations:</th>      <td>   108</td>      <th>  AIC:               </th> <td>   809.9</td>\n",
       "</tr>\n",
       "<tr>\n",
       "  <th>Df Residuals:</th>          <td>   105</td>      <th>  BIC:               </th> <td>   817.9</td>\n",
       "</tr>\n",
       "<tr>\n",
       "  <th>Df Model:</th>              <td>     2</td>      <th>                     </th>     <td> </td>   \n",
       "</tr>\n",
       "<tr>\n",
       "  <th>Covariance Type:</th>      <td>nonrobust</td>    <th>                     </th>     <td> </td>   \n",
       "</tr>\n",
       "</table>\n",
       "<table class=\"simpletable\">\n",
       "<tr>\n",
       "        <td></td>           <th>coef</th>     <th>std err</th>      <th>t</th>      <th>P>|t|</th>  <th>[0.025</th>    <th>0.975]</th>  \n",
       "</tr>\n",
       "<tr>\n",
       "  <th>Intercept</th>     <td>  142.9885</td> <td>    1.691</td> <td>   84.582</td> <td> 0.000</td> <td>  139.637</td> <td>  146.341</td>\n",
       "</tr>\n",
       "<tr>\n",
       "  <th>drug1[T.True]</th> <td>  -14.0772</td> <td>    2.391</td> <td>   -5.888</td> <td> 0.000</td> <td>  -18.818</td> <td>   -9.337</td>\n",
       "</tr>\n",
       "<tr>\n",
       "  <th>drug2[T.True]</th> <td>   -1.2705</td> <td>    2.391</td> <td>   -0.531</td> <td> 0.596</td> <td>   -6.011</td> <td>    3.470</td>\n",
       "</tr>\n",
       "</table>\n",
       "<table class=\"simpletable\">\n",
       "<tr>\n",
       "  <th>Omnibus:</th>       <td> 0.257</td> <th>  Durbin-Watson:     </th> <td>   2.075</td>\n",
       "</tr>\n",
       "<tr>\n",
       "  <th>Prob(Omnibus):</th> <td> 0.879</td> <th>  Jarque-Bera (JB):  </th> <td>   0.431</td>\n",
       "</tr>\n",
       "<tr>\n",
       "  <th>Skew:</th>          <td>-0.056</td> <th>  Prob(JB):          </th> <td>   0.806</td>\n",
       "</tr>\n",
       "<tr>\n",
       "  <th>Kurtosis:</th>      <td> 2.712</td> <th>  Cond. No.          </th> <td>    3.73</td>\n",
       "</tr>\n",
       "</table><br/><br/>Warnings:<br/>[1] Standard Errors assume that the covariance matrix of the errors is correctly specified."
      ],
      "text/plain": [
       "<class 'statsmodels.iolib.summary.Summary'>\n",
       "\"\"\"\n",
       "                            OLS Regression Results                            \n",
       "==============================================================================\n",
       "Dep. Variable:                  BPsys   R-squared:                       0.288\n",
       "Model:                            OLS   Adj. R-squared:                  0.274\n",
       "Method:                 Least Squares   F-statistic:                     21.22\n",
       "Date:                Sun, 26 Jul 2020   Prob (F-statistic):           1.83e-08\n",
       "Time:                        20:58:59   Log-Likelihood:                -401.94\n",
       "No. Observations:                 108   AIC:                             809.9\n",
       "Df Residuals:                     105   BIC:                             817.9\n",
       "Df Model:                           2                                         \n",
       "Covariance Type:            nonrobust                                         \n",
       "=================================================================================\n",
       "                    coef    std err          t      P>|t|      [0.025      0.975]\n",
       "---------------------------------------------------------------------------------\n",
       "Intercept       142.9885      1.691     84.582      0.000     139.637     146.341\n",
       "drug1[T.True]   -14.0772      2.391     -5.888      0.000     -18.818      -9.337\n",
       "drug2[T.True]    -1.2705      2.391     -0.531      0.596      -6.011       3.470\n",
       "==============================================================================\n",
       "Omnibus:                        0.257   Durbin-Watson:                   2.075\n",
       "Prob(Omnibus):                  0.879   Jarque-Bera (JB):                0.431\n",
       "Skew:                          -0.056   Prob(JB):                        0.806\n",
       "Kurtosis:                       2.712   Cond. No.                         3.73\n",
       "==============================================================================\n",
       "\n",
       "Warnings:\n",
       "[1] Standard Errors assume that the covariance matrix of the errors is correctly specified.\n",
       "\"\"\""
      ]
     },
     "execution_count": 75,
     "metadata": {},
     "output_type": "execute_result"
    }
   ],
   "source": [
    "ols_model = ols(formula='BPsys~ drug1+drug2 + 1', data=df)\n",
    "ols_result = ols_model.fit()\n",
    "ols_result.summary()"
   ]
  },
  {
   "cell_type": "markdown",
   "metadata": {},
   "source": [
    "You can see that this shows us a p-value that is very close to the result from the paired t-test computed using the ```t.test()``` function."
   ]
  },
  {
   "cell_type": "code",
   "execution_count": null,
   "metadata": {},
   "outputs": [],
   "source": []
  },
  {
   "cell_type": "code",
   "execution_count": null,
   "metadata": {},
   "outputs": [],
   "source": []
  }
 ],
 "metadata": {
  "jupytext": {
   "formats": "ipynb,py:percent"
  },
  "kernelspec": {
   "display_name": "Python 3",
   "language": "python",
   "name": "python3"
  },
  "language_info": {
   "codemirror_mode": {
    "name": "ipython",
    "version": 3
   },
   "file_extension": ".py",
   "mimetype": "text/x-python",
   "name": "python",
   "nbconvert_exporter": "python",
   "pygments_lexer": "ipython3",
   "version": "3.7.3"
  }
 },
 "nbformat": 4,
 "nbformat_minor": 4
}
